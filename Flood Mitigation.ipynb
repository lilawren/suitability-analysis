{
 "cells": [
  {
   "cell_type": "code",
   "execution_count": 1,
   "metadata": {
    "collapsed": false
   },
   "outputs": [
    {
     "data": {
      "text/plain": [
       "'Starting python notebook for flood mitigation'"
      ]
     },
     "execution_count": 1,
     "metadata": {},
     "output_type": "execute_result"
    }
   ],
   "source": [
    "\"\"\"Starting python notebook for flood mitigation\"\"\""
   ]
  },
  {
   "cell_type": "code",
   "execution_count": 1,
   "metadata": {
    "collapsed": true
   },
   "outputs": [],
   "source": [
    "from relocation.gis import land_use"
   ]
  },
  {
   "cell_type": "code",
   "execution_count": 2,
   "metadata": {
    "collapsed": false
   },
   "outputs": [
    {
     "ename": "ValueError",
     "evalue": "The truth value of a raster is ambiguous. Invalid use of raster with Boolean operator or function. Check the use of parentheses where applicable.",
     "output_type": "error",
     "traceback": [
      "\u001b[1;31m---------------------------------------------------------------------------\u001b[0m",
      "\u001b[1;31mValueError\u001b[0m                                Traceback (most recent call last)",
      "\u001b[1;32m<ipython-input-2-8bbcdad90e93>\u001b[0m in \u001b[0;36m<module>\u001b[1;34m()\u001b[0m\n\u001b[1;32m----> 1\u001b[1;33m \u001b[0mland_use\u001b[0m\u001b[1;33m.\u001b[0m\u001b[0mland_use\u001b[0m\u001b[1;33m(\u001b[0m\u001b[1;34mr\"C:\\Users\\dsx.AD3\\Code\\FloodMitigation\\regions\\SouthernIllinois\\layers.gdb\\nlcd_2011_land_cover\"\u001b[0m\u001b[1;33m,\u001b[0m\u001b[1;34mr\"C:\\Users\\dsx.AD3\\Code\\FloodMitigation\\geospatial_analysis\\southernillinois\\layers.gdb\\search_area\"\u001b[0m\u001b[1;33m,\u001b[0m\u001b[1;34mr\"C:\\Users\\dsx.AD3\\Code\\FloodMitigation\\regions\\SouthernIllinois\\layers.gdb\\tiger_roads_2011\"\u001b[0m\u001b[1;33m,\u001b[0m\u001b[1;34mr\"C:\\Users\\dsx.AD3\\Code\\FloodMitigation\\regions\\SouthernIllinois\\layers.gdb\\census_places_2015\"\u001b[0m\u001b[1;33m,\u001b[0m\u001b[1;34mr'PROJCS[\"NAD_1983_Contiguous_USA_Albers\",GEOGCS[\"GCS_North_American_1983\",DATUM[\"D_North_American_1983\",SPHEROID[\"GRS_1980\",6378137.0,298.257222101]],PRIMEM[\"Greenwich\",0.0],UNIT[\"Degree\",0.0174532925199433]],PROJECTION[\"Albers\"],PARAMETER[\"False_Easting\",0.0],PARAMETER[\"False_Northing\",0.0],PARAMETER[\"Central_Meridian\",-96.0],PARAMETER[\"Standard_Parallel_1\",29.5],PARAMETER[\"Standard_Parallel_2\",45.5],PARAMETER[\"Latitude_Of_Origin\",23.0],UNIT[\"Meter\",1.0]]'\u001b[0m\u001b[1;33m,\u001b[0m\u001b[1;34mr\"C:\\Users\\dsx.AD3\\Code\\FloodMitigation\\geospatial_analysis\\southernillinois\\layers.gdb\"\u001b[0m\u001b[1;33m)\u001b[0m\u001b[1;33m\u001b[0m\u001b[0m\n\u001b[0m",
      "\u001b[1;32mc:\\users\\dsx.ad3\\code\\floodmitigation\\relocation\\gis\\land_use.pyc\u001b[0m in \u001b[0;36mland_use\u001b[1;34m(nlcd_layer, search_area, tiger_lines, census_places, crs, workspace)\u001b[0m\n\u001b[0;32m     55\u001b[0m         \u001b[0mgeoprocessing_log\u001b[0m\u001b[1;33m.\u001b[0m\u001b[0minfo\u001b[0m\u001b[1;33m(\u001b[0m\u001b[1;34m\"Extracting NLCD raster to search area\"\u001b[0m\u001b[1;33m)\u001b[0m\u001b[1;33m\u001b[0m\u001b[0m\n\u001b[0;32m     56\u001b[0m         \u001b[0mnlcd_in_area\u001b[0m \u001b[1;33m=\u001b[0m \u001b[0marcpy\u001b[0m\u001b[1;33m.\u001b[0m\u001b[0msa\u001b[0m\u001b[1;33m.\u001b[0m\u001b[0mExtractByMask\u001b[0m\u001b[1;33m(\u001b[0m\u001b[0mnlcd_layer\u001b[0m\u001b[1;33m,\u001b[0m \u001b[0msearch_area\u001b[0m\u001b[1;33m)\u001b[0m\u001b[1;33m\u001b[0m\u001b[0m\n\u001b[1;32m---> 57\u001b[1;33m         \u001b[0mthresholded_raster\u001b[0m \u001b[1;33m=\u001b[0m \u001b[0mnlcd_in_area\u001b[0m \u001b[1;33m>\u001b[0m \u001b[1;36m24\u001b[0m \u001b[1;33m|\u001b[0m \u001b[0mnlcd_in_area\u001b[0m \u001b[1;33m==\u001b[0m \u001b[1;36m21\u001b[0m  \u001b[1;31m# TODO: find a way to make this a parameter - an explicit list of banned values?\u001b[0m\u001b[1;33m\u001b[0m\u001b[0m\n\u001b[0m\u001b[0;32m     58\u001b[0m \u001b[1;33m\u001b[0m\u001b[0m\n\u001b[0;32m     59\u001b[0m         \u001b[0mstored_environments\u001b[0m \u001b[1;33m=\u001b[0m \u001b[0mstore_environments\u001b[0m\u001b[1;33m(\u001b[0m\u001b[1;33m(\u001b[0m\u001b[1;34m'cellSize'\u001b[0m\u001b[1;33m,\u001b[0m \u001b[1;34m'mask'\u001b[0m\u001b[1;33m,\u001b[0m \u001b[1;34m'extent'\u001b[0m\u001b[1;33m,\u001b[0m \u001b[1;34m'snapRaster'\u001b[0m\u001b[1;33m)\u001b[0m\u001b[1;33m)\u001b[0m  \u001b[1;31m# cache the env vars so we can reset them at the end of this function\u001b[0m\u001b[1;33m\u001b[0m\u001b[0m\n",
      "\u001b[1;31mValueError\u001b[0m: The truth value of a raster is ambiguous. Invalid use of raster with Boolean operator or function. Check the use of parentheses where applicable."
     ]
    }
   ],
   "source": [
    "land_use.land_use(r\"C:\\Users\\dsx.AD3\\Code\\FloodMitigation\\regions\\SouthernIllinois\\layers.gdb\\nlcd_2011_land_cover\",r\"C:\\Users\\dsx.AD3\\Code\\FloodMitigation\\geospatial_analysis\\southernillinois\\layers.gdb\\search_area\",r\"C:\\Users\\dsx.AD3\\Code\\FloodMitigation\\regions\\SouthernIllinois\\layers.gdb\\tiger_roads_2011\",r\"C:\\Users\\dsx.AD3\\Code\\FloodMitigation\\regions\\SouthernIllinois\\layers.gdb\\census_places_2015\",r'PROJCS[\"NAD_1983_Contiguous_USA_Albers\",GEOGCS[\"GCS_North_American_1983\",DATUM[\"D_North_American_1983\",SPHEROID[\"GRS_1980\",6378137.0,298.257222101]],PRIMEM[\"Greenwich\",0.0],UNIT[\"Degree\",0.0174532925199433]],PROJECTION[\"Albers\"],PARAMETER[\"False_Easting\",0.0],PARAMETER[\"False_Northing\",0.0],PARAMETER[\"Central_Meridian\",-96.0],PARAMETER[\"Standard_Parallel_1\",29.5],PARAMETER[\"Standard_Parallel_2\",45.5],PARAMETER[\"Latitude_Of_Origin\",23.0],UNIT[\"Meter\",1.0]]',r\"C:\\Users\\dsx.AD3\\Code\\FloodMitigation\\geospatial_analysis\\southernillinois\\layers.gdb\")"
   ]
  },
  {
   "cell_type": "code",
   "execution_count": 3,
   "metadata": {
    "collapsed": false
   },
   "outputs": [
    {
     "data": {
      "text/plain": [
       "<module 'relocation.gis.land_use' from 'relocation\\gis\\land_use.py'>"
      ]
     },
     "execution_count": 3,
     "metadata": {},
     "output_type": "execute_result"
    }
   ],
   "source": [
    "reload(land_use)"
   ]
  },
  {
   "cell_type": "code",
   "execution_count": 4,
   "metadata": {
    "collapsed": false
   },
   "outputs": [
    {
     "ename": "ExecuteError",
     "evalue": "ERROR 999999: Error executing function.\nAn invalid SQL statement was used.\nAn invalid SQL statement was used. [VAT_Extract_nlcd3]\nAn invalid SQL statement was used. [SELECT * FROM VAT_Extract_nlcd3 WHERE Value > 24 | Value == 21]\nFailed to execute (Con).\n",
     "output_type": "error",
     "traceback": [
      "\u001b[1;31m---------------------------------------------------------------------------\u001b[0m",
      "\u001b[1;31mExecuteError\u001b[0m                              Traceback (most recent call last)",
      "\u001b[1;32m<ipython-input-4-8bbcdad90e93>\u001b[0m in \u001b[0;36m<module>\u001b[1;34m()\u001b[0m\n\u001b[1;32m----> 1\u001b[1;33m \u001b[0mland_use\u001b[0m\u001b[1;33m.\u001b[0m\u001b[0mland_use\u001b[0m\u001b[1;33m(\u001b[0m\u001b[1;34mr\"C:\\Users\\dsx.AD3\\Code\\FloodMitigation\\regions\\SouthernIllinois\\layers.gdb\\nlcd_2011_land_cover\"\u001b[0m\u001b[1;33m,\u001b[0m\u001b[1;34mr\"C:\\Users\\dsx.AD3\\Code\\FloodMitigation\\geospatial_analysis\\southernillinois\\layers.gdb\\search_area\"\u001b[0m\u001b[1;33m,\u001b[0m\u001b[1;34mr\"C:\\Users\\dsx.AD3\\Code\\FloodMitigation\\regions\\SouthernIllinois\\layers.gdb\\tiger_roads_2011\"\u001b[0m\u001b[1;33m,\u001b[0m\u001b[1;34mr\"C:\\Users\\dsx.AD3\\Code\\FloodMitigation\\regions\\SouthernIllinois\\layers.gdb\\census_places_2015\"\u001b[0m\u001b[1;33m,\u001b[0m\u001b[1;34mr'PROJCS[\"NAD_1983_Contiguous_USA_Albers\",GEOGCS[\"GCS_North_American_1983\",DATUM[\"D_North_American_1983\",SPHEROID[\"GRS_1980\",6378137.0,298.257222101]],PRIMEM[\"Greenwich\",0.0],UNIT[\"Degree\",0.0174532925199433]],PROJECTION[\"Albers\"],PARAMETER[\"False_Easting\",0.0],PARAMETER[\"False_Northing\",0.0],PARAMETER[\"Central_Meridian\",-96.0],PARAMETER[\"Standard_Parallel_1\",29.5],PARAMETER[\"Standard_Parallel_2\",45.5],PARAMETER[\"Latitude_Of_Origin\",23.0],UNIT[\"Meter\",1.0]]'\u001b[0m\u001b[1;33m,\u001b[0m\u001b[1;34mr\"C:\\Users\\dsx.AD3\\Code\\FloodMitigation\\geospatial_analysis\\southernillinois\\layers.gdb\"\u001b[0m\u001b[1;33m)\u001b[0m\u001b[1;33m\u001b[0m\u001b[0m\n\u001b[0m",
      "\u001b[1;32mc:\\users\\dsx.ad3\\code\\floodmitigation\\relocation\\gis\\land_use.py\u001b[0m in \u001b[0;36mland_use\u001b[1;34m(nlcd_layer, search_area, tiger_lines, census_places, crs, workspace)\u001b[0m\n\u001b[0;32m     55\u001b[0m         \u001b[0mgeoprocessing_log\u001b[0m\u001b[1;33m.\u001b[0m\u001b[0minfo\u001b[0m\u001b[1;33m(\u001b[0m\u001b[1;34m\"Extracting NLCD raster to search area\"\u001b[0m\u001b[1;33m)\u001b[0m\u001b[1;33m\u001b[0m\u001b[0m\n\u001b[0;32m     56\u001b[0m         \u001b[0mnlcd_in_area\u001b[0m \u001b[1;33m=\u001b[0m \u001b[0marcpy\u001b[0m\u001b[1;33m.\u001b[0m\u001b[0msa\u001b[0m\u001b[1;33m.\u001b[0m\u001b[0mExtractByMask\u001b[0m\u001b[1;33m(\u001b[0m\u001b[0mnlcd_layer\u001b[0m\u001b[1;33m,\u001b[0m \u001b[0msearch_area\u001b[0m\u001b[1;33m)\u001b[0m\u001b[1;33m\u001b[0m\u001b[0m\n\u001b[1;32m---> 57\u001b[1;33m         \u001b[0mthresholded_raster\u001b[0m \u001b[1;33m=\u001b[0m \u001b[0marcpy\u001b[0m\u001b[1;33m.\u001b[0m\u001b[0msa\u001b[0m\u001b[1;33m.\u001b[0m\u001b[0mCon\u001b[0m\u001b[1;33m(\u001b[0m\u001b[0mnlcd_in_area\u001b[0m\u001b[1;33m,\u001b[0m \u001b[0mnlcd_in_area\u001b[0m\u001b[1;33m,\u001b[0m \u001b[1;36m0\u001b[0m\u001b[1;33m,\u001b[0m \u001b[1;34m\"Value > 24 | Value == 21\"\u001b[0m\u001b[1;33m)\u001b[0m  \u001b[1;31m# TODO: find a way to make this a parameter - an explicit list of banned values?\u001b[0m\u001b[1;33m\u001b[0m\u001b[0m\n\u001b[0m\u001b[0;32m     58\u001b[0m \u001b[1;33m\u001b[0m\u001b[0m\n\u001b[0;32m     59\u001b[0m         \u001b[0mstored_environments\u001b[0m \u001b[1;33m=\u001b[0m \u001b[0mstore_environments\u001b[0m\u001b[1;33m(\u001b[0m\u001b[1;33m(\u001b[0m\u001b[1;34m'cellSize'\u001b[0m\u001b[1;33m,\u001b[0m \u001b[1;34m'mask'\u001b[0m\u001b[1;33m,\u001b[0m \u001b[1;34m'extent'\u001b[0m\u001b[1;33m,\u001b[0m \u001b[1;34m'snapRaster'\u001b[0m\u001b[1;33m)\u001b[0m\u001b[1;33m)\u001b[0m  \u001b[1;31m# cache the env vars so we can reset them at the end of this function\u001b[0m\u001b[1;33m\u001b[0m\u001b[0m\n",
      "\u001b[1;32mC:\\Program Files (x86)\\ArcGIS\\Desktop10.3\\ArcPy\\arcpy\\sa\\Functions.py\u001b[0m in \u001b[0;36mCon\u001b[1;34m(in_conditional_raster, in_true_raster_or_constant, in_false_raster_or_constant, where_clause)\u001b[0m\n\u001b[0;32m    253\u001b[0m         \u001b[0min_true_raster_or_constant\u001b[0m\u001b[1;33m,\u001b[0m\u001b[1;33m\u001b[0m\u001b[0m\n\u001b[0;32m    254\u001b[0m         \u001b[0min_false_raster_or_constant\u001b[0m\u001b[1;33m,\u001b[0m\u001b[1;33m\u001b[0m\u001b[0m\n\u001b[1;32m--> 255\u001b[1;33m         where_clause)\n\u001b[0m\u001b[0;32m    256\u001b[0m \u001b[0mCon\u001b[0m\u001b[1;33m.\u001b[0m\u001b[0m__esri_toolname__\u001b[0m \u001b[1;33m=\u001b[0m \u001b[1;34m\"Con_sa\"\u001b[0m\u001b[1;33m\u001b[0m\u001b[0m\n\u001b[0;32m    257\u001b[0m Con.__esri_toolinfo__ = [\n",
      "\u001b[1;32mC:\\Program Files (x86)\\ArcGIS\\Desktop10.3\\ArcPy\\arcpy\\sa\\Utils.py\u001b[0m in \u001b[0;36mswapper\u001b[1;34m(*args, **kwargs)\u001b[0m\n\u001b[0;32m     51\u001b[0m \u001b[1;33m\u001b[0m\u001b[0m\n\u001b[0;32m     52\u001b[0m             \u001b[1;32mtry\u001b[0m\u001b[1;33m:\u001b[0m\u001b[1;33m\u001b[0m\u001b[0m\n\u001b[1;32m---> 53\u001b[1;33m                 \u001b[0mresult\u001b[0m \u001b[1;33m=\u001b[0m \u001b[0mwrapper\u001b[0m\u001b[1;33m(\u001b[0m\u001b[1;33m*\u001b[0m\u001b[0margs\u001b[0m\u001b[1;33m,\u001b[0m \u001b[1;33m**\u001b[0m\u001b[0mkwargs\u001b[0m\u001b[1;33m)\u001b[0m\u001b[1;33m\u001b[0m\u001b[0m\n\u001b[0m\u001b[0;32m     54\u001b[0m             \u001b[1;32mfinally\u001b[0m\u001b[1;33m:\u001b[0m\u001b[1;33m\u001b[0m\u001b[0m\n\u001b[0;32m     55\u001b[0m                 \u001b[1;31m# Reset the geoprocessor state to the original setting.\u001b[0m\u001b[1;33m\u001b[0m\u001b[1;33m\u001b[0m\u001b[0m\n",
      "\u001b[1;32mC:\\Program Files (x86)\\ArcGIS\\Desktop10.3\\ArcPy\\arcpy\\sa\\Functions.py\u001b[0m in \u001b[0;36mWrapper\u001b[1;34m(in_conditional_raster, in_true_raster_or_constant, in_false_raster_or_constant, where_clause)\u001b[0m\n\u001b[0;32m    247\u001b[0m             \u001b[0mout_raster\u001b[0m\u001b[1;33m,\u001b[0m\u001b[1;33m\u001b[0m\u001b[0m\n\u001b[0;32m    248\u001b[0m             \u001b[0min_false_raster_or_constant\u001b[0m\u001b[1;33m,\u001b[0m\u001b[1;33m\u001b[0m\u001b[0m\n\u001b[1;32m--> 249\u001b[1;33m             where_clause)\n\u001b[0m\u001b[0;32m    250\u001b[0m         \u001b[1;32mreturn\u001b[0m \u001b[0m_wrapToolRaster\u001b[0m\u001b[1;33m(\u001b[0m\u001b[1;34mu\"Con_sa\"\u001b[0m\u001b[1;33m,\u001b[0m \u001b[0municode\u001b[0m\u001b[1;33m(\u001b[0m\u001b[0mresult\u001b[0m\u001b[1;33m.\u001b[0m\u001b[0mgetOutput\u001b[0m\u001b[1;33m(\u001b[0m\u001b[1;36m0\u001b[0m\u001b[1;33m)\u001b[0m\u001b[1;33m)\u001b[0m\u001b[1;33m)\u001b[0m\u001b[1;33m\u001b[0m\u001b[0m\n\u001b[0;32m    251\u001b[0m     return Wrapper(\n",
      "\u001b[1;32mC:\\Program Files (x86)\\ArcGIS\\Desktop10.3\\ArcPy\\arcpy\\geoprocessing\\_base.py\u001b[0m in \u001b[0;36m<lambda>\u001b[1;34m(*args)\u001b[0m\n\u001b[0;32m    502\u001b[0m         \u001b[0mval\u001b[0m \u001b[1;33m=\u001b[0m \u001b[0mgetattr\u001b[0m\u001b[1;33m(\u001b[0m\u001b[0mself\u001b[0m\u001b[1;33m.\u001b[0m\u001b[0m_gp\u001b[0m\u001b[1;33m,\u001b[0m \u001b[0mattr\u001b[0m\u001b[1;33m)\u001b[0m\u001b[1;33m\u001b[0m\u001b[0m\n\u001b[0;32m    503\u001b[0m         \u001b[1;32mif\u001b[0m \u001b[0mcallable\u001b[0m\u001b[1;33m(\u001b[0m\u001b[0mval\u001b[0m\u001b[1;33m)\u001b[0m\u001b[1;33m:\u001b[0m\u001b[1;33m\u001b[0m\u001b[0m\n\u001b[1;32m--> 504\u001b[1;33m             \u001b[1;32mreturn\u001b[0m \u001b[1;32mlambda\u001b[0m \u001b[1;33m*\u001b[0m\u001b[0margs\u001b[0m\u001b[1;33m:\u001b[0m \u001b[0mval\u001b[0m\u001b[1;33m(\u001b[0m\u001b[1;33m*\u001b[0m\u001b[0mgp_fixargs\u001b[0m\u001b[1;33m(\u001b[0m\u001b[0margs\u001b[0m\u001b[1;33m,\u001b[0m \u001b[0mTrue\u001b[0m\u001b[1;33m)\u001b[0m\u001b[1;33m)\u001b[0m\u001b[1;33m\u001b[0m\u001b[0m\n\u001b[0m\u001b[0;32m    505\u001b[0m         \u001b[1;32melse\u001b[0m\u001b[1;33m:\u001b[0m\u001b[1;33m\u001b[0m\u001b[0m\n\u001b[0;32m    506\u001b[0m             \u001b[1;32mreturn\u001b[0m \u001b[0mconvertArcObjectToPythonObject\u001b[0m\u001b[1;33m(\u001b[0m\u001b[0mval\u001b[0m\u001b[1;33m)\u001b[0m\u001b[1;33m\u001b[0m\u001b[0m\n",
      "\u001b[1;31mExecuteError\u001b[0m: ERROR 999999: Error executing function.\nAn invalid SQL statement was used.\nAn invalid SQL statement was used. [VAT_Extract_nlcd3]\nAn invalid SQL statement was used. [SELECT * FROM VAT_Extract_nlcd3 WHERE Value > 24 | Value == 21]\nFailed to execute (Con).\n"
     ]
    }
   ],
   "source": [
    "land_use.land_use(r\"C:\\Users\\dsx.AD3\\Code\\FloodMitigation\\regions\\SouthernIllinois\\layers.gdb\\nlcd_2011_land_cover\",r\"C:\\Users\\dsx.AD3\\Code\\FloodMitigation\\geospatial_analysis\\southernillinois\\layers.gdb\\search_area\",r\"C:\\Users\\dsx.AD3\\Code\\FloodMitigation\\regions\\SouthernIllinois\\layers.gdb\\tiger_roads_2011\",r\"C:\\Users\\dsx.AD3\\Code\\FloodMitigation\\regions\\SouthernIllinois\\layers.gdb\\census_places_2015\",r'PROJCS[\"NAD_1983_Contiguous_USA_Albers\",GEOGCS[\"GCS_North_American_1983\",DATUM[\"D_North_American_1983\",SPHEROID[\"GRS_1980\",6378137.0,298.257222101]],PRIMEM[\"Greenwich\",0.0],UNIT[\"Degree\",0.0174532925199433]],PROJECTION[\"Albers\"],PARAMETER[\"False_Easting\",0.0],PARAMETER[\"False_Northing\",0.0],PARAMETER[\"Central_Meridian\",-96.0],PARAMETER[\"Standard_Parallel_1\",29.5],PARAMETER[\"Standard_Parallel_2\",45.5],PARAMETER[\"Latitude_Of_Origin\",23.0],UNIT[\"Meter\",1.0]]',r\"C:\\Users\\dsx.AD3\\Code\\FloodMitigation\\geospatial_analysis\\southernillinois\\layers.gdb\")"
   ]
  },
  {
   "cell_type": "code",
   "execution_count": 5,
   "metadata": {
    "collapsed": false
   },
   "outputs": [
    {
     "data": {
      "text/plain": [
       "<module 'relocation.gis.land_use' from 'relocation\\gis\\land_use.py'>"
      ]
     },
     "execution_count": 5,
     "metadata": {},
     "output_type": "execute_result"
    }
   ],
   "source": [
    "reload(land_use)"
   ]
  },
  {
   "cell_type": "code",
   "execution_count": 6,
   "metadata": {
    "collapsed": false
   },
   "outputs": [
    {
     "ename": "ExecuteError",
     "evalue": "ERROR 999999: Error executing function.\nAn invalid SQL statement was used.\nAn invalid SQL statement was used. [VAT_Extract_nlcd2]\nAn invalid SQL statement was used. [SELECT * FROM VAT_Extract_nlcd2 WHERE (Value > 24) or (Value == 21)]\nFailed to execute (Con).\n",
     "output_type": "error",
     "traceback": [
      "\u001b[1;31m---------------------------------------------------------------------------\u001b[0m",
      "\u001b[1;31mExecuteError\u001b[0m                              Traceback (most recent call last)",
      "\u001b[1;32m<ipython-input-6-8bbcdad90e93>\u001b[0m in \u001b[0;36m<module>\u001b[1;34m()\u001b[0m\n\u001b[1;32m----> 1\u001b[1;33m \u001b[0mland_use\u001b[0m\u001b[1;33m.\u001b[0m\u001b[0mland_use\u001b[0m\u001b[1;33m(\u001b[0m\u001b[1;34mr\"C:\\Users\\dsx.AD3\\Code\\FloodMitigation\\regions\\SouthernIllinois\\layers.gdb\\nlcd_2011_land_cover\"\u001b[0m\u001b[1;33m,\u001b[0m\u001b[1;34mr\"C:\\Users\\dsx.AD3\\Code\\FloodMitigation\\geospatial_analysis\\southernillinois\\layers.gdb\\search_area\"\u001b[0m\u001b[1;33m,\u001b[0m\u001b[1;34mr\"C:\\Users\\dsx.AD3\\Code\\FloodMitigation\\regions\\SouthernIllinois\\layers.gdb\\tiger_roads_2011\"\u001b[0m\u001b[1;33m,\u001b[0m\u001b[1;34mr\"C:\\Users\\dsx.AD3\\Code\\FloodMitigation\\regions\\SouthernIllinois\\layers.gdb\\census_places_2015\"\u001b[0m\u001b[1;33m,\u001b[0m\u001b[1;34mr'PROJCS[\"NAD_1983_Contiguous_USA_Albers\",GEOGCS[\"GCS_North_American_1983\",DATUM[\"D_North_American_1983\",SPHEROID[\"GRS_1980\",6378137.0,298.257222101]],PRIMEM[\"Greenwich\",0.0],UNIT[\"Degree\",0.0174532925199433]],PROJECTION[\"Albers\"],PARAMETER[\"False_Easting\",0.0],PARAMETER[\"False_Northing\",0.0],PARAMETER[\"Central_Meridian\",-96.0],PARAMETER[\"Standard_Parallel_1\",29.5],PARAMETER[\"Standard_Parallel_2\",45.5],PARAMETER[\"Latitude_Of_Origin\",23.0],UNIT[\"Meter\",1.0]]'\u001b[0m\u001b[1;33m,\u001b[0m\u001b[1;34mr\"C:\\Users\\dsx.AD3\\Code\\FloodMitigation\\geospatial_analysis\\southernillinois\\layers.gdb\"\u001b[0m\u001b[1;33m)\u001b[0m\u001b[1;33m\u001b[0m\u001b[0m\n\u001b[0m",
      "\u001b[1;32mc:\\users\\dsx.ad3\\code\\floodmitigation\\relocation\\gis\\land_use.py\u001b[0m in \u001b[0;36mland_use\u001b[1;34m(nlcd_layer, search_area, tiger_lines, census_places, crs, workspace)\u001b[0m\n\u001b[0;32m     55\u001b[0m         \u001b[0mgeoprocessing_log\u001b[0m\u001b[1;33m.\u001b[0m\u001b[0minfo\u001b[0m\u001b[1;33m(\u001b[0m\u001b[1;34m\"Extracting NLCD raster to search area\"\u001b[0m\u001b[1;33m)\u001b[0m\u001b[1;33m\u001b[0m\u001b[0m\n\u001b[0;32m     56\u001b[0m         \u001b[0mnlcd_in_area\u001b[0m \u001b[1;33m=\u001b[0m \u001b[0marcpy\u001b[0m\u001b[1;33m.\u001b[0m\u001b[0msa\u001b[0m\u001b[1;33m.\u001b[0m\u001b[0mExtractByMask\u001b[0m\u001b[1;33m(\u001b[0m\u001b[0mnlcd_layer\u001b[0m\u001b[1;33m,\u001b[0m \u001b[0msearch_area\u001b[0m\u001b[1;33m)\u001b[0m\u001b[1;33m\u001b[0m\u001b[0m\n\u001b[1;32m---> 57\u001b[1;33m         \u001b[0mthresholded_raster\u001b[0m \u001b[1;33m=\u001b[0m \u001b[0marcpy\u001b[0m\u001b[1;33m.\u001b[0m\u001b[0msa\u001b[0m\u001b[1;33m.\u001b[0m\u001b[0mCon\u001b[0m\u001b[1;33m(\u001b[0m\u001b[0mnlcd_in_area\u001b[0m\u001b[1;33m,\u001b[0m \u001b[0mnlcd_in_area\u001b[0m\u001b[1;33m,\u001b[0m \u001b[1;36m0\u001b[0m\u001b[1;33m,\u001b[0m \u001b[1;34m\"(Value > 24) or (Value == 21)\"\u001b[0m\u001b[1;33m)\u001b[0m  \u001b[1;31m# TODO: find a way to make this a parameter - an explicit list of banned values?\u001b[0m\u001b[1;33m\u001b[0m\u001b[0m\n\u001b[0m\u001b[0;32m     58\u001b[0m \u001b[1;33m\u001b[0m\u001b[0m\n\u001b[0;32m     59\u001b[0m         \u001b[0mstored_environments\u001b[0m \u001b[1;33m=\u001b[0m \u001b[0mstore_environments\u001b[0m\u001b[1;33m(\u001b[0m\u001b[1;33m(\u001b[0m\u001b[1;34m'cellSize'\u001b[0m\u001b[1;33m,\u001b[0m \u001b[1;34m'mask'\u001b[0m\u001b[1;33m,\u001b[0m \u001b[1;34m'extent'\u001b[0m\u001b[1;33m,\u001b[0m \u001b[1;34m'snapRaster'\u001b[0m\u001b[1;33m)\u001b[0m\u001b[1;33m)\u001b[0m  \u001b[1;31m# cache the env vars so we can reset them at the end of this function\u001b[0m\u001b[1;33m\u001b[0m\u001b[0m\n",
      "\u001b[1;32mC:\\Program Files (x86)\\ArcGIS\\Desktop10.3\\ArcPy\\arcpy\\sa\\Functions.py\u001b[0m in \u001b[0;36mCon\u001b[1;34m(in_conditional_raster, in_true_raster_or_constant, in_false_raster_or_constant, where_clause)\u001b[0m\n\u001b[0;32m    253\u001b[0m         \u001b[0min_true_raster_or_constant\u001b[0m\u001b[1;33m,\u001b[0m\u001b[1;33m\u001b[0m\u001b[0m\n\u001b[0;32m    254\u001b[0m         \u001b[0min_false_raster_or_constant\u001b[0m\u001b[1;33m,\u001b[0m\u001b[1;33m\u001b[0m\u001b[0m\n\u001b[1;32m--> 255\u001b[1;33m         where_clause)\n\u001b[0m\u001b[0;32m    256\u001b[0m \u001b[0mCon\u001b[0m\u001b[1;33m.\u001b[0m\u001b[0m__esri_toolname__\u001b[0m \u001b[1;33m=\u001b[0m \u001b[1;34m\"Con_sa\"\u001b[0m\u001b[1;33m\u001b[0m\u001b[0m\n\u001b[0;32m    257\u001b[0m Con.__esri_toolinfo__ = [\n",
      "\u001b[1;32mC:\\Program Files (x86)\\ArcGIS\\Desktop10.3\\ArcPy\\arcpy\\sa\\Utils.py\u001b[0m in \u001b[0;36mswapper\u001b[1;34m(*args, **kwargs)\u001b[0m\n\u001b[0;32m     51\u001b[0m \u001b[1;33m\u001b[0m\u001b[0m\n\u001b[0;32m     52\u001b[0m             \u001b[1;32mtry\u001b[0m\u001b[1;33m:\u001b[0m\u001b[1;33m\u001b[0m\u001b[0m\n\u001b[1;32m---> 53\u001b[1;33m                 \u001b[0mresult\u001b[0m \u001b[1;33m=\u001b[0m \u001b[0mwrapper\u001b[0m\u001b[1;33m(\u001b[0m\u001b[1;33m*\u001b[0m\u001b[0margs\u001b[0m\u001b[1;33m,\u001b[0m \u001b[1;33m**\u001b[0m\u001b[0mkwargs\u001b[0m\u001b[1;33m)\u001b[0m\u001b[1;33m\u001b[0m\u001b[0m\n\u001b[0m\u001b[0;32m     54\u001b[0m             \u001b[1;32mfinally\u001b[0m\u001b[1;33m:\u001b[0m\u001b[1;33m\u001b[0m\u001b[0m\n\u001b[0;32m     55\u001b[0m                 \u001b[1;31m# Reset the geoprocessor state to the original setting.\u001b[0m\u001b[1;33m\u001b[0m\u001b[1;33m\u001b[0m\u001b[0m\n",
      "\u001b[1;32mC:\\Program Files (x86)\\ArcGIS\\Desktop10.3\\ArcPy\\arcpy\\sa\\Functions.py\u001b[0m in \u001b[0;36mWrapper\u001b[1;34m(in_conditional_raster, in_true_raster_or_constant, in_false_raster_or_constant, where_clause)\u001b[0m\n\u001b[0;32m    247\u001b[0m             \u001b[0mout_raster\u001b[0m\u001b[1;33m,\u001b[0m\u001b[1;33m\u001b[0m\u001b[0m\n\u001b[0;32m    248\u001b[0m             \u001b[0min_false_raster_or_constant\u001b[0m\u001b[1;33m,\u001b[0m\u001b[1;33m\u001b[0m\u001b[0m\n\u001b[1;32m--> 249\u001b[1;33m             where_clause)\n\u001b[0m\u001b[0;32m    250\u001b[0m         \u001b[1;32mreturn\u001b[0m \u001b[0m_wrapToolRaster\u001b[0m\u001b[1;33m(\u001b[0m\u001b[1;34mu\"Con_sa\"\u001b[0m\u001b[1;33m,\u001b[0m \u001b[0municode\u001b[0m\u001b[1;33m(\u001b[0m\u001b[0mresult\u001b[0m\u001b[1;33m.\u001b[0m\u001b[0mgetOutput\u001b[0m\u001b[1;33m(\u001b[0m\u001b[1;36m0\u001b[0m\u001b[1;33m)\u001b[0m\u001b[1;33m)\u001b[0m\u001b[1;33m)\u001b[0m\u001b[1;33m\u001b[0m\u001b[0m\n\u001b[0;32m    251\u001b[0m     return Wrapper(\n",
      "\u001b[1;32mC:\\Program Files (x86)\\ArcGIS\\Desktop10.3\\ArcPy\\arcpy\\geoprocessing\\_base.py\u001b[0m in \u001b[0;36m<lambda>\u001b[1;34m(*args)\u001b[0m\n\u001b[0;32m    502\u001b[0m         \u001b[0mval\u001b[0m \u001b[1;33m=\u001b[0m \u001b[0mgetattr\u001b[0m\u001b[1;33m(\u001b[0m\u001b[0mself\u001b[0m\u001b[1;33m.\u001b[0m\u001b[0m_gp\u001b[0m\u001b[1;33m,\u001b[0m \u001b[0mattr\u001b[0m\u001b[1;33m)\u001b[0m\u001b[1;33m\u001b[0m\u001b[0m\n\u001b[0;32m    503\u001b[0m         \u001b[1;32mif\u001b[0m \u001b[0mcallable\u001b[0m\u001b[1;33m(\u001b[0m\u001b[0mval\u001b[0m\u001b[1;33m)\u001b[0m\u001b[1;33m:\u001b[0m\u001b[1;33m\u001b[0m\u001b[0m\n\u001b[1;32m--> 504\u001b[1;33m             \u001b[1;32mreturn\u001b[0m \u001b[1;32mlambda\u001b[0m \u001b[1;33m*\u001b[0m\u001b[0margs\u001b[0m\u001b[1;33m:\u001b[0m \u001b[0mval\u001b[0m\u001b[1;33m(\u001b[0m\u001b[1;33m*\u001b[0m\u001b[0mgp_fixargs\u001b[0m\u001b[1;33m(\u001b[0m\u001b[0margs\u001b[0m\u001b[1;33m,\u001b[0m \u001b[0mTrue\u001b[0m\u001b[1;33m)\u001b[0m\u001b[1;33m)\u001b[0m\u001b[1;33m\u001b[0m\u001b[0m\n\u001b[0m\u001b[0;32m    505\u001b[0m         \u001b[1;32melse\u001b[0m\u001b[1;33m:\u001b[0m\u001b[1;33m\u001b[0m\u001b[0m\n\u001b[0;32m    506\u001b[0m             \u001b[1;32mreturn\u001b[0m \u001b[0mconvertArcObjectToPythonObject\u001b[0m\u001b[1;33m(\u001b[0m\u001b[0mval\u001b[0m\u001b[1;33m)\u001b[0m\u001b[1;33m\u001b[0m\u001b[0m\n",
      "\u001b[1;31mExecuteError\u001b[0m: ERROR 999999: Error executing function.\nAn invalid SQL statement was used.\nAn invalid SQL statement was used. [VAT_Extract_nlcd2]\nAn invalid SQL statement was used. [SELECT * FROM VAT_Extract_nlcd2 WHERE (Value > 24) or (Value == 21)]\nFailed to execute (Con).\n"
     ]
    }
   ],
   "source": [
    "land_use.land_use(r\"C:\\Users\\dsx.AD3\\Code\\FloodMitigation\\regions\\SouthernIllinois\\layers.gdb\\nlcd_2011_land_cover\",r\"C:\\Users\\dsx.AD3\\Code\\FloodMitigation\\geospatial_analysis\\southernillinois\\layers.gdb\\search_area\",r\"C:\\Users\\dsx.AD3\\Code\\FloodMitigation\\regions\\SouthernIllinois\\layers.gdb\\tiger_roads_2011\",r\"C:\\Users\\dsx.AD3\\Code\\FloodMitigation\\regions\\SouthernIllinois\\layers.gdb\\census_places_2015\",r'PROJCS[\"NAD_1983_Contiguous_USA_Albers\",GEOGCS[\"GCS_North_American_1983\",DATUM[\"D_North_American_1983\",SPHEROID[\"GRS_1980\",6378137.0,298.257222101]],PRIMEM[\"Greenwich\",0.0],UNIT[\"Degree\",0.0174532925199433]],PROJECTION[\"Albers\"],PARAMETER[\"False_Easting\",0.0],PARAMETER[\"False_Northing\",0.0],PARAMETER[\"Central_Meridian\",-96.0],PARAMETER[\"Standard_Parallel_1\",29.5],PARAMETER[\"Standard_Parallel_2\",45.5],PARAMETER[\"Latitude_Of_Origin\",23.0],UNIT[\"Meter\",1.0]]',r\"C:\\Users\\dsx.AD3\\Code\\FloodMitigation\\geospatial_analysis\\southernillinois\\layers.gdb\")"
   ]
  },
  {
   "cell_type": "code",
   "execution_count": 7,
   "metadata": {
    "collapsed": false
   },
   "outputs": [
    {
     "data": {
      "text/plain": [
       "<module 'relocation.gis.land_use' from 'relocation\\gis\\land_use.py'>"
      ]
     },
     "execution_count": 7,
     "metadata": {},
     "output_type": "execute_result"
    }
   ],
   "source": [
    "reload(land_use)"
   ]
  },
  {
   "cell_type": "code",
   "execution_count": 8,
   "metadata": {
    "collapsed": false
   },
   "outputs": [
    {
     "ename": "ValueError",
     "evalue": "The truth value of a raster is ambiguous. Invalid use of raster with Boolean operator or function. Check the use of parentheses where applicable.",
     "output_type": "error",
     "traceback": [
      "\u001b[1;31m---------------------------------------------------------------------------\u001b[0m",
      "\u001b[1;31mValueError\u001b[0m                                Traceback (most recent call last)",
      "\u001b[1;32m<ipython-input-8-8bbcdad90e93>\u001b[0m in \u001b[0;36m<module>\u001b[1;34m()\u001b[0m\n\u001b[1;32m----> 1\u001b[1;33m \u001b[0mland_use\u001b[0m\u001b[1;33m.\u001b[0m\u001b[0mland_use\u001b[0m\u001b[1;33m(\u001b[0m\u001b[1;34mr\"C:\\Users\\dsx.AD3\\Code\\FloodMitigation\\regions\\SouthernIllinois\\layers.gdb\\nlcd_2011_land_cover\"\u001b[0m\u001b[1;33m,\u001b[0m\u001b[1;34mr\"C:\\Users\\dsx.AD3\\Code\\FloodMitigation\\geospatial_analysis\\southernillinois\\layers.gdb\\search_area\"\u001b[0m\u001b[1;33m,\u001b[0m\u001b[1;34mr\"C:\\Users\\dsx.AD3\\Code\\FloodMitigation\\regions\\SouthernIllinois\\layers.gdb\\tiger_roads_2011\"\u001b[0m\u001b[1;33m,\u001b[0m\u001b[1;34mr\"C:\\Users\\dsx.AD3\\Code\\FloodMitigation\\regions\\SouthernIllinois\\layers.gdb\\census_places_2015\"\u001b[0m\u001b[1;33m,\u001b[0m\u001b[1;34mr'PROJCS[\"NAD_1983_Contiguous_USA_Albers\",GEOGCS[\"GCS_North_American_1983\",DATUM[\"D_North_American_1983\",SPHEROID[\"GRS_1980\",6378137.0,298.257222101]],PRIMEM[\"Greenwich\",0.0],UNIT[\"Degree\",0.0174532925199433]],PROJECTION[\"Albers\"],PARAMETER[\"False_Easting\",0.0],PARAMETER[\"False_Northing\",0.0],PARAMETER[\"Central_Meridian\",-96.0],PARAMETER[\"Standard_Parallel_1\",29.5],PARAMETER[\"Standard_Parallel_2\",45.5],PARAMETER[\"Latitude_Of_Origin\",23.0],UNIT[\"Meter\",1.0]]'\u001b[0m\u001b[1;33m,\u001b[0m\u001b[1;34mr\"C:\\Users\\dsx.AD3\\Code\\FloodMitigation\\geospatial_analysis\\southernillinois\\layers.gdb\"\u001b[0m\u001b[1;33m)\u001b[0m\u001b[1;33m\u001b[0m\u001b[0m\n\u001b[0m",
      "\u001b[1;32mc:\\users\\dsx.ad3\\code\\floodmitigation\\relocation\\gis\\land_use.py\u001b[0m in \u001b[0;36mland_use\u001b[1;34m(nlcd_layer, search_area, tiger_lines, census_places, crs, workspace)\u001b[0m\n\u001b[0;32m     55\u001b[0m         \u001b[0mgeoprocessing_log\u001b[0m\u001b[1;33m.\u001b[0m\u001b[0minfo\u001b[0m\u001b[1;33m(\u001b[0m\u001b[1;34m\"Extracting NLCD raster to search area\"\u001b[0m\u001b[1;33m)\u001b[0m\u001b[1;33m\u001b[0m\u001b[0m\n\u001b[0;32m     56\u001b[0m         \u001b[0mnlcd_in_area\u001b[0m \u001b[1;33m=\u001b[0m \u001b[0marcpy\u001b[0m\u001b[1;33m.\u001b[0m\u001b[0msa\u001b[0m\u001b[1;33m.\u001b[0m\u001b[0mExtractByMask\u001b[0m\u001b[1;33m(\u001b[0m\u001b[0mnlcd_layer\u001b[0m\u001b[1;33m,\u001b[0m \u001b[0msearch_area\u001b[0m\u001b[1;33m)\u001b[0m\u001b[1;33m\u001b[0m\u001b[0m\n\u001b[1;32m---> 57\u001b[1;33m         \u001b[0mthresholded_raster\u001b[0m \u001b[1;33m=\u001b[0m \u001b[0marcpy\u001b[0m\u001b[1;33m.\u001b[0m\u001b[0msa\u001b[0m\u001b[1;33m.\u001b[0m\u001b[0mCon\u001b[0m\u001b[1;33m(\u001b[0m\u001b[0mnlcd_in_area\u001b[0m \u001b[1;33m>\u001b[0m \u001b[1;36m24\u001b[0m \u001b[1;33m|\u001b[0m \u001b[0mnlcd_in_area\u001b[0m \u001b[1;33m==\u001b[0m \u001b[1;36m21\u001b[0m\u001b[1;33m,\u001b[0m \u001b[1;36m1\u001b[0m\u001b[1;33m,\u001b[0m \u001b[1;36m0\u001b[0m\u001b[1;33m)\u001b[0m  \u001b[1;31m# TODO: find a way to make this a parameter - an explicit list of banned values?\u001b[0m\u001b[1;33m\u001b[0m\u001b[0m\n\u001b[0m\u001b[0;32m     58\u001b[0m \u001b[1;33m\u001b[0m\u001b[0m\n\u001b[0;32m     59\u001b[0m         \u001b[0mstored_environments\u001b[0m \u001b[1;33m=\u001b[0m \u001b[0mstore_environments\u001b[0m\u001b[1;33m(\u001b[0m\u001b[1;33m(\u001b[0m\u001b[1;34m'cellSize'\u001b[0m\u001b[1;33m,\u001b[0m \u001b[1;34m'mask'\u001b[0m\u001b[1;33m,\u001b[0m \u001b[1;34m'extent'\u001b[0m\u001b[1;33m,\u001b[0m \u001b[1;34m'snapRaster'\u001b[0m\u001b[1;33m)\u001b[0m\u001b[1;33m)\u001b[0m  \u001b[1;31m# cache the env vars so we can reset them at the end of this function\u001b[0m\u001b[1;33m\u001b[0m\u001b[0m\n",
      "\u001b[1;31mValueError\u001b[0m: The truth value of a raster is ambiguous. Invalid use of raster with Boolean operator or function. Check the use of parentheses where applicable."
     ]
    }
   ],
   "source": [
    "land_use.land_use(r\"C:\\Users\\dsx.AD3\\Code\\FloodMitigation\\regions\\SouthernIllinois\\layers.gdb\\nlcd_2011_land_cover\",r\"C:\\Users\\dsx.AD3\\Code\\FloodMitigation\\geospatial_analysis\\southernillinois\\layers.gdb\\search_area\",r\"C:\\Users\\dsx.AD3\\Code\\FloodMitigation\\regions\\SouthernIllinois\\layers.gdb\\tiger_roads_2011\",r\"C:\\Users\\dsx.AD3\\Code\\FloodMitigation\\regions\\SouthernIllinois\\layers.gdb\\census_places_2015\",r'PROJCS[\"NAD_1983_Contiguous_USA_Albers\",GEOGCS[\"GCS_North_American_1983\",DATUM[\"D_North_American_1983\",SPHEROID[\"GRS_1980\",6378137.0,298.257222101]],PRIMEM[\"Greenwich\",0.0],UNIT[\"Degree\",0.0174532925199433]],PROJECTION[\"Albers\"],PARAMETER[\"False_Easting\",0.0],PARAMETER[\"False_Northing\",0.0],PARAMETER[\"Central_Meridian\",-96.0],PARAMETER[\"Standard_Parallel_1\",29.5],PARAMETER[\"Standard_Parallel_2\",45.5],PARAMETER[\"Latitude_Of_Origin\",23.0],UNIT[\"Meter\",1.0]]',r\"C:\\Users\\dsx.AD3\\Code\\FloodMitigation\\geospatial_analysis\\southernillinois\\layers.gdb\")"
   ]
  },
  {
   "cell_type": "code",
   "execution_count": 9,
   "metadata": {
    "collapsed": false
   },
   "outputs": [
    {
     "data": {
      "text/plain": [
       "<module 'relocation.gis.land_use' from 'relocation\\gis\\land_use.py'>"
      ]
     },
     "execution_count": 9,
     "metadata": {},
     "output_type": "execute_result"
    }
   ],
   "source": [
    "reload(land_use)"
   ]
  },
  {
   "cell_type": "code",
   "execution_count": 10,
   "metadata": {
    "collapsed": false
   },
   "outputs": [
    {
     "ename": "KeyError",
     "evalue": "'cellSize'",
     "output_type": "error",
     "traceback": [
      "\u001b[1;31m---------------------------------------------------------------------------\u001b[0m",
      "\u001b[1;31mKeyError\u001b[0m                                  Traceback (most recent call last)",
      "\u001b[1;32m<ipython-input-10-8bbcdad90e93>\u001b[0m in \u001b[0;36m<module>\u001b[1;34m()\u001b[0m\n\u001b[1;32m----> 1\u001b[1;33m \u001b[0mland_use\u001b[0m\u001b[1;33m.\u001b[0m\u001b[0mland_use\u001b[0m\u001b[1;33m(\u001b[0m\u001b[1;34mr\"C:\\Users\\dsx.AD3\\Code\\FloodMitigation\\regions\\SouthernIllinois\\layers.gdb\\nlcd_2011_land_cover\"\u001b[0m\u001b[1;33m,\u001b[0m\u001b[1;34mr\"C:\\Users\\dsx.AD3\\Code\\FloodMitigation\\geospatial_analysis\\southernillinois\\layers.gdb\\search_area\"\u001b[0m\u001b[1;33m,\u001b[0m\u001b[1;34mr\"C:\\Users\\dsx.AD3\\Code\\FloodMitigation\\regions\\SouthernIllinois\\layers.gdb\\tiger_roads_2011\"\u001b[0m\u001b[1;33m,\u001b[0m\u001b[1;34mr\"C:\\Users\\dsx.AD3\\Code\\FloodMitigation\\regions\\SouthernIllinois\\layers.gdb\\census_places_2015\"\u001b[0m\u001b[1;33m,\u001b[0m\u001b[1;34mr'PROJCS[\"NAD_1983_Contiguous_USA_Albers\",GEOGCS[\"GCS_North_American_1983\",DATUM[\"D_North_American_1983\",SPHEROID[\"GRS_1980\",6378137.0,298.257222101]],PRIMEM[\"Greenwich\",0.0],UNIT[\"Degree\",0.0174532925199433]],PROJECTION[\"Albers\"],PARAMETER[\"False_Easting\",0.0],PARAMETER[\"False_Northing\",0.0],PARAMETER[\"Central_Meridian\",-96.0],PARAMETER[\"Standard_Parallel_1\",29.5],PARAMETER[\"Standard_Parallel_2\",45.5],PARAMETER[\"Latitude_Of_Origin\",23.0],UNIT[\"Meter\",1.0]]'\u001b[0m\u001b[1;33m,\u001b[0m\u001b[1;34mr\"C:\\Users\\dsx.AD3\\Code\\FloodMitigation\\geospatial_analysis\\southernillinois\\layers.gdb\"\u001b[0m\u001b[1;33m)\u001b[0m\u001b[1;33m\u001b[0m\u001b[0m\n\u001b[0m",
      "\u001b[1;32mc:\\users\\dsx.ad3\\code\\floodmitigation\\relocation\\gis\\land_use.py\u001b[0m in \u001b[0;36mland_use\u001b[1;34m(nlcd_layer, search_area, tiger_lines, census_places, crs, workspace)\u001b[0m\n\u001b[0;32m     57\u001b[0m         \u001b[0mthresholded_raster\u001b[0m \u001b[1;33m=\u001b[0m \u001b[0marcpy\u001b[0m\u001b[1;33m.\u001b[0m\u001b[0msa\u001b[0m\u001b[1;33m.\u001b[0m\u001b[0mCon\u001b[0m\u001b[1;33m(\u001b[0m\u001b[1;33m(\u001b[0m\u001b[0mnlcd_in_area\u001b[0m \u001b[1;33m>\u001b[0m \u001b[1;36m24\u001b[0m\u001b[1;33m)\u001b[0m \u001b[1;33m|\u001b[0m \u001b[1;33m(\u001b[0m\u001b[0mnlcd_in_area\u001b[0m \u001b[1;33m==\u001b[0m \u001b[1;36m21\u001b[0m\u001b[1;33m)\u001b[0m\u001b[1;33m,\u001b[0m \u001b[1;36m1\u001b[0m\u001b[1;33m,\u001b[0m \u001b[1;36m0\u001b[0m\u001b[1;33m)\u001b[0m  \u001b[1;31m# TODO: find a way to make this a parameter - an explicit list of banned values?\u001b[0m\u001b[1;33m\u001b[0m\u001b[0m\n\u001b[0;32m     58\u001b[0m \u001b[1;33m\u001b[0m\u001b[0m\n\u001b[1;32m---> 59\u001b[1;33m         \u001b[0mstored_environments\u001b[0m \u001b[1;33m=\u001b[0m \u001b[0mstore_environments\u001b[0m\u001b[1;33m(\u001b[0m\u001b[1;33m(\u001b[0m\u001b[1;34m'cellSize'\u001b[0m\u001b[1;33m,\u001b[0m \u001b[1;34m'mask'\u001b[0m\u001b[1;33m,\u001b[0m \u001b[1;34m'extent'\u001b[0m\u001b[1;33m,\u001b[0m \u001b[1;34m'snapRaster'\u001b[0m\u001b[1;33m)\u001b[0m\u001b[1;33m)\u001b[0m  \u001b[1;31m# cache the env vars so we can reset them at the end of this function\u001b[0m\u001b[1;33m\u001b[0m\u001b[0m\n\u001b[0m\u001b[0;32m     60\u001b[0m         \u001b[0marcpy\u001b[0m\u001b[1;33m.\u001b[0m\u001b[0menv\u001b[0m\u001b[1;33m.\u001b[0m\u001b[0mcellSize\u001b[0m \u001b[1;33m=\u001b[0m \u001b[0mnlcd_in_area\u001b[0m\u001b[1;33m\u001b[0m\u001b[0m\n\u001b[0;32m     61\u001b[0m         \u001b[0marcpy\u001b[0m\u001b[1;33m.\u001b[0m\u001b[0menv\u001b[0m\u001b[1;33m.\u001b[0m\u001b[0mmask\u001b[0m \u001b[1;33m=\u001b[0m \u001b[0mnlcd_in_area\u001b[0m\u001b[1;33m\u001b[0m\u001b[0m\n",
      "\u001b[1;32mc:\\users\\dsx.ad3\\code\\floodmitigation\\relocation\\gis\\__init__.pyc\u001b[0m in \u001b[0;36mstore_environments\u001b[1;34m(environments_list)\u001b[0m\n\u001b[0;32m     32\u001b[0m         \u001b[0mstored_environments\u001b[0m \u001b[1;33m=\u001b[0m \u001b[1;33m{\u001b[0m\u001b[1;33m}\u001b[0m\u001b[1;33m\u001b[0m\u001b[0m\n\u001b[0;32m     33\u001b[0m         \u001b[1;32mfor\u001b[0m \u001b[0menv\u001b[0m \u001b[1;32min\u001b[0m \u001b[0menvironments_list\u001b[0m\u001b[1;33m:\u001b[0m\u001b[1;33m\u001b[0m\u001b[0m\n\u001b[1;32m---> 34\u001b[1;33m                 \u001b[0mstored_environments\u001b[0m\u001b[1;33m[\u001b[0m\u001b[0menv\u001b[0m\u001b[1;33m]\u001b[0m \u001b[1;33m=\u001b[0m \u001b[0marcpy\u001b[0m\u001b[1;33m.\u001b[0m\u001b[0menv\u001b[0m\u001b[1;33m.\u001b[0m\u001b[0m__dict__\u001b[0m\u001b[1;33m[\u001b[0m\u001b[0menv\u001b[0m\u001b[1;33m]\u001b[0m\u001b[1;33m\u001b[0m\u001b[0m\n\u001b[0m\u001b[0;32m     35\u001b[0m \u001b[1;33m\u001b[0m\u001b[0m\n\u001b[0;32m     36\u001b[0m         \u001b[1;32mreturn\u001b[0m \u001b[0mstored_environments\u001b[0m\u001b[1;33m\u001b[0m\u001b[0m\n",
      "\u001b[1;31mKeyError\u001b[0m: 'cellSize'"
     ]
    }
   ],
   "source": [
    "land_use.land_use(r\"C:\\Users\\dsx.AD3\\Code\\FloodMitigation\\regions\\SouthernIllinois\\layers.gdb\\nlcd_2011_land_cover\",r\"C:\\Users\\dsx.AD3\\Code\\FloodMitigation\\geospatial_analysis\\southernillinois\\layers.gdb\\search_area\",r\"C:\\Users\\dsx.AD3\\Code\\FloodMitigation\\regions\\SouthernIllinois\\layers.gdb\\tiger_roads_2011\",r\"C:\\Users\\dsx.AD3\\Code\\FloodMitigation\\regions\\SouthernIllinois\\layers.gdb\\census_places_2015\",r'PROJCS[\"NAD_1983_Contiguous_USA_Albers\",GEOGCS[\"GCS_North_American_1983\",DATUM[\"D_North_American_1983\",SPHEROID[\"GRS_1980\",6378137.0,298.257222101]],PRIMEM[\"Greenwich\",0.0],UNIT[\"Degree\",0.0174532925199433]],PROJECTION[\"Albers\"],PARAMETER[\"False_Easting\",0.0],PARAMETER[\"False_Northing\",0.0],PARAMETER[\"Central_Meridian\",-96.0],PARAMETER[\"Standard_Parallel_1\",29.5],PARAMETER[\"Standard_Parallel_2\",45.5],PARAMETER[\"Latitude_Of_Origin\",23.0],UNIT[\"Meter\",1.0]]',r\"C:\\Users\\dsx.AD3\\Code\\FloodMitigation\\geospatial_analysis\\southernillinois\\layers.gdb\")\n"
   ]
  },
  {
   "cell_type": "code",
   "execution_count": 11,
   "metadata": {
    "collapsed": false
   },
   "outputs": [
    {
     "data": {
      "text/plain": [
       "{'_environments': {u'MDomain',\n",
       "  u'MResolution',\n",
       "  u'MTolerance',\n",
       "  u'XYDomain',\n",
       "  u'XYResolution',\n",
       "  u'XYTolerance',\n",
       "  u'ZDomain',\n",
       "  u'ZResolution',\n",
       "  u'ZTolerance',\n",
       "  u'addOutputsToMap',\n",
       "  u'autoCommit',\n",
       "  u'cartographicCoordinateSystem',\n",
       "  u'cartographicPartitions',\n",
       "  u'cellSize',\n",
       "  u'coincidentPoints',\n",
       "  u'compression',\n",
       "  u'configKeyword',\n",
       "  u'derivedPrecision',\n",
       "  u'extent',\n",
       "  u'geographicTransformations',\n",
       "  u'maintainSpatialIndex',\n",
       "  u'mask',\n",
       "  u'newPrecision',\n",
       "  u'nodata',\n",
       "  u'outputCoordinateSystem',\n",
       "  u'outputMFlag',\n",
       "  u'outputZFlag',\n",
       "  u'outputZValue',\n",
       "  u'packageWorkspace',\n",
       "  u'parallelProcessingFactor',\n",
       "  u'projectCompare',\n",
       "  u'pyramid',\n",
       "  u'qualifiedFieldNames',\n",
       "  u'randomGenerator',\n",
       "  u'rasterStatistics',\n",
       "  u'referenceScale',\n",
       "  u'resamplingMethod',\n",
       "  u'scratchFolder',\n",
       "  u'scratchGDB',\n",
       "  u'scratchWorkspace',\n",
       "  u'snapRaster',\n",
       "  u'spatialGrid1',\n",
       "  u'spatialGrid2',\n",
       "  u'spatialGrid3',\n",
       "  u'terrainMemoryUsage',\n",
       "  u'tileSize',\n",
       "  u'tinSaveVersion',\n",
       "  u'transferDomains',\n",
       "  u'workspace'},\n",
       " '_gp': <geoprocessing object at 0x35da308>}"
      ]
     },
     "execution_count": 11,
     "metadata": {},
     "output_type": "execute_result"
    }
   ],
   "source": [
    "arcpy.env.__dict__"
   ]
  },
  {
   "cell_type": "code",
   "execution_count": 12,
   "metadata": {
    "collapsed": false
   },
   "outputs": [
    {
     "ename": "KeyError",
     "evalue": "'cellSize'",
     "output_type": "error",
     "traceback": [
      "\u001b[1;31m---------------------------------------------------------------------------\u001b[0m",
      "\u001b[1;31mKeyError\u001b[0m                                  Traceback (most recent call last)",
      "\u001b[1;32m<ipython-input-12-0ecb84be7676>\u001b[0m in \u001b[0;36m<module>\u001b[1;34m()\u001b[0m\n\u001b[1;32m----> 1\u001b[1;33m \u001b[0marcpy\u001b[0m\u001b[1;33m.\u001b[0m\u001b[0menv\u001b[0m\u001b[1;33m.\u001b[0m\u001b[0m__dict__\u001b[0m\u001b[1;33m[\u001b[0m\u001b[1;34m'cellSize'\u001b[0m\u001b[1;33m]\u001b[0m\u001b[1;33m\u001b[0m\u001b[0m\n\u001b[0m",
      "\u001b[1;31mKeyError\u001b[0m: 'cellSize'"
     ]
    }
   ],
   "source": [
    "arcpy.env.__dict__['cellSize']"
   ]
  },
  {
   "cell_type": "code",
   "execution_count": 13,
   "metadata": {
    "collapsed": false
   },
   "outputs": [
    {
     "ename": "KeyError",
     "evalue": "u'cellSize'",
     "output_type": "error",
     "traceback": [
      "\u001b[1;31m---------------------------------------------------------------------------\u001b[0m",
      "\u001b[1;31mKeyError\u001b[0m                                  Traceback (most recent call last)",
      "\u001b[1;32m<ipython-input-13-ff4995721d87>\u001b[0m in \u001b[0;36m<module>\u001b[1;34m()\u001b[0m\n\u001b[1;32m----> 1\u001b[1;33m \u001b[0marcpy\u001b[0m\u001b[1;33m.\u001b[0m\u001b[0menv\u001b[0m\u001b[1;33m.\u001b[0m\u001b[0m__dict__\u001b[0m\u001b[1;33m[\u001b[0m\u001b[0municode\u001b[0m\u001b[1;33m(\u001b[0m\u001b[1;34m'cellSize'\u001b[0m\u001b[1;33m)\u001b[0m\u001b[1;33m]\u001b[0m\u001b[1;33m\u001b[0m\u001b[0m\n\u001b[0m",
      "\u001b[1;31mKeyError\u001b[0m: u'cellSize'"
     ]
    }
   ],
   "source": [
    "arcpy.env.__dict__[unicode('cellSize')]"
   ]
  },
  {
   "cell_type": "code",
   "execution_count": 15,
   "metadata": {
    "collapsed": true
   },
   "outputs": [],
   "source": [
    "from relocation import gis"
   ]
  },
  {
   "cell_type": "code",
   "execution_count": 16,
   "metadata": {
    "collapsed": false
   },
   "outputs": [
    {
     "data": {
      "text/plain": [
       "<module 'relocation.gis' from 'relocation\\gis\\__init__.py'>"
      ]
     },
     "execution_count": 16,
     "metadata": {},
     "output_type": "execute_result"
    }
   ],
   "source": [
    "reload(gis)"
   ]
  },
  {
   "cell_type": "code",
   "execution_count": 17,
   "metadata": {
    "collapsed": false
   },
   "outputs": [
    {
     "ename": "KeyError",
     "evalue": "'cellSize'",
     "output_type": "error",
     "traceback": [
      "\u001b[1;31m---------------------------------------------------------------------------\u001b[0m",
      "\u001b[1;31mKeyError\u001b[0m                                  Traceback (most recent call last)",
      "\u001b[1;32m<ipython-input-17-8bbcdad90e93>\u001b[0m in \u001b[0;36m<module>\u001b[1;34m()\u001b[0m\n\u001b[1;32m----> 1\u001b[1;33m \u001b[0mland_use\u001b[0m\u001b[1;33m.\u001b[0m\u001b[0mland_use\u001b[0m\u001b[1;33m(\u001b[0m\u001b[1;34mr\"C:\\Users\\dsx.AD3\\Code\\FloodMitigation\\regions\\SouthernIllinois\\layers.gdb\\nlcd_2011_land_cover\"\u001b[0m\u001b[1;33m,\u001b[0m\u001b[1;34mr\"C:\\Users\\dsx.AD3\\Code\\FloodMitigation\\geospatial_analysis\\southernillinois\\layers.gdb\\search_area\"\u001b[0m\u001b[1;33m,\u001b[0m\u001b[1;34mr\"C:\\Users\\dsx.AD3\\Code\\FloodMitigation\\regions\\SouthernIllinois\\layers.gdb\\tiger_roads_2011\"\u001b[0m\u001b[1;33m,\u001b[0m\u001b[1;34mr\"C:\\Users\\dsx.AD3\\Code\\FloodMitigation\\regions\\SouthernIllinois\\layers.gdb\\census_places_2015\"\u001b[0m\u001b[1;33m,\u001b[0m\u001b[1;34mr'PROJCS[\"NAD_1983_Contiguous_USA_Albers\",GEOGCS[\"GCS_North_American_1983\",DATUM[\"D_North_American_1983\",SPHEROID[\"GRS_1980\",6378137.0,298.257222101]],PRIMEM[\"Greenwich\",0.0],UNIT[\"Degree\",0.0174532925199433]],PROJECTION[\"Albers\"],PARAMETER[\"False_Easting\",0.0],PARAMETER[\"False_Northing\",0.0],PARAMETER[\"Central_Meridian\",-96.0],PARAMETER[\"Standard_Parallel_1\",29.5],PARAMETER[\"Standard_Parallel_2\",45.5],PARAMETER[\"Latitude_Of_Origin\",23.0],UNIT[\"Meter\",1.0]]'\u001b[0m\u001b[1;33m,\u001b[0m\u001b[1;34mr\"C:\\Users\\dsx.AD3\\Code\\FloodMitigation\\geospatial_analysis\\southernillinois\\layers.gdb\"\u001b[0m\u001b[1;33m)\u001b[0m\u001b[1;33m\u001b[0m\u001b[0m\n\u001b[0m",
      "\u001b[1;32mc:\\users\\dsx.ad3\\code\\floodmitigation\\relocation\\gis\\land_use.py\u001b[0m in \u001b[0;36mland_use\u001b[1;34m(nlcd_layer, search_area, tiger_lines, census_places, crs, workspace)\u001b[0m\n\u001b[0;32m     57\u001b[0m         \u001b[0mthresholded_raster\u001b[0m \u001b[1;33m=\u001b[0m \u001b[0marcpy\u001b[0m\u001b[1;33m.\u001b[0m\u001b[0msa\u001b[0m\u001b[1;33m.\u001b[0m\u001b[0mCon\u001b[0m\u001b[1;33m(\u001b[0m\u001b[1;33m(\u001b[0m\u001b[0mnlcd_in_area\u001b[0m \u001b[1;33m>\u001b[0m \u001b[1;36m24\u001b[0m\u001b[1;33m)\u001b[0m \u001b[1;33m|\u001b[0m \u001b[1;33m(\u001b[0m\u001b[0mnlcd_in_area\u001b[0m \u001b[1;33m==\u001b[0m \u001b[1;36m21\u001b[0m\u001b[1;33m)\u001b[0m\u001b[1;33m,\u001b[0m \u001b[1;36m1\u001b[0m\u001b[1;33m,\u001b[0m \u001b[1;36m0\u001b[0m\u001b[1;33m)\u001b[0m  \u001b[1;31m# TODO: find a way to make this a parameter - an explicit list of banned values?\u001b[0m\u001b[1;33m\u001b[0m\u001b[0m\n\u001b[0;32m     58\u001b[0m \u001b[1;33m\u001b[0m\u001b[0m\n\u001b[1;32m---> 59\u001b[1;33m         \u001b[0mstored_environments\u001b[0m \u001b[1;33m=\u001b[0m \u001b[0mstore_environments\u001b[0m\u001b[1;33m(\u001b[0m\u001b[1;33m(\u001b[0m\u001b[1;34m'cellSize'\u001b[0m\u001b[1;33m,\u001b[0m \u001b[1;34m'mask'\u001b[0m\u001b[1;33m,\u001b[0m \u001b[1;34m'extent'\u001b[0m\u001b[1;33m,\u001b[0m \u001b[1;34m'snapRaster'\u001b[0m\u001b[1;33m)\u001b[0m\u001b[1;33m)\u001b[0m  \u001b[1;31m# cache the env vars so we can reset them at the end of this function\u001b[0m\u001b[1;33m\u001b[0m\u001b[0m\n\u001b[0m\u001b[0;32m     60\u001b[0m         \u001b[0marcpy\u001b[0m\u001b[1;33m.\u001b[0m\u001b[0menv\u001b[0m\u001b[1;33m.\u001b[0m\u001b[0mcellSize\u001b[0m \u001b[1;33m=\u001b[0m \u001b[0mnlcd_in_area\u001b[0m\u001b[1;33m\u001b[0m\u001b[0m\n\u001b[0;32m     61\u001b[0m         \u001b[0marcpy\u001b[0m\u001b[1;33m.\u001b[0m\u001b[0menv\u001b[0m\u001b[1;33m.\u001b[0m\u001b[0mmask\u001b[0m \u001b[1;33m=\u001b[0m \u001b[0mnlcd_in_area\u001b[0m\u001b[1;33m\u001b[0m\u001b[0m\n",
      "\u001b[1;32mc:\\users\\dsx.ad3\\code\\floodmitigation\\relocation\\gis\\__init__.py\u001b[0m in \u001b[0;36mstore_environments\u001b[1;34m(environments_list)\u001b[0m\n\u001b[0;32m     32\u001b[0m         \u001b[0mstored_environments\u001b[0m \u001b[1;33m=\u001b[0m \u001b[1;33m{\u001b[0m\u001b[1;33m}\u001b[0m\u001b[1;33m\u001b[0m\u001b[0m\n\u001b[0;32m     33\u001b[0m         \u001b[1;32mfor\u001b[0m \u001b[0menv\u001b[0m \u001b[1;32min\u001b[0m \u001b[0menvironments_list\u001b[0m\u001b[1;33m:\u001b[0m\u001b[1;33m\u001b[0m\u001b[0m\n\u001b[1;32m---> 34\u001b[1;33m                 \u001b[0mstored_environments\u001b[0m\u001b[1;33m[\u001b[0m\u001b[0menv\u001b[0m\u001b[1;33m]\u001b[0m \u001b[1;33m=\u001b[0m \u001b[0marcpy\u001b[0m\u001b[1;33m.\u001b[0m\u001b[0menv\u001b[0m\u001b[1;33m.\u001b[0m\u001b[0m__dict__\u001b[0m\u001b[1;33m[\u001b[0m\u001b[1;34m\"_environments\"\u001b[0m\u001b[1;33m]\u001b[0m\u001b[1;33m[\u001b[0m\u001b[0menv\u001b[0m\u001b[1;33m]\u001b[0m\u001b[1;33m\u001b[0m\u001b[0m\n\u001b[0m\u001b[0;32m     35\u001b[0m \u001b[1;33m\u001b[0m\u001b[0m\n\u001b[0;32m     36\u001b[0m         \u001b[1;32mreturn\u001b[0m \u001b[0mstored_environments\u001b[0m\u001b[1;33m\u001b[0m\u001b[0m\n",
      "\u001b[1;31mKeyError\u001b[0m: 'cellSize'"
     ]
    }
   ],
   "source": [
    "land_use.land_use(r\"C:\\Users\\dsx.AD3\\Code\\FloodMitigation\\regions\\SouthernIllinois\\layers.gdb\\nlcd_2011_land_cover\",r\"C:\\Users\\dsx.AD3\\Code\\FloodMitigation\\geospatial_analysis\\southernillinois\\layers.gdb\\search_area\",r\"C:\\Users\\dsx.AD3\\Code\\FloodMitigation\\regions\\SouthernIllinois\\layers.gdb\\tiger_roads_2011\",r\"C:\\Users\\dsx.AD3\\Code\\FloodMitigation\\regions\\SouthernIllinois\\layers.gdb\\census_places_2015\",r'PROJCS[\"NAD_1983_Contiguous_USA_Albers\",GEOGCS[\"GCS_North_American_1983\",DATUM[\"D_North_American_1983\",SPHEROID[\"GRS_1980\",6378137.0,298.257222101]],PRIMEM[\"Greenwich\",0.0],UNIT[\"Degree\",0.0174532925199433]],PROJECTION[\"Albers\"],PARAMETER[\"False_Easting\",0.0],PARAMETER[\"False_Northing\",0.0],PARAMETER[\"Central_Meridian\",-96.0],PARAMETER[\"Standard_Parallel_1\",29.5],PARAMETER[\"Standard_Parallel_2\",45.5],PARAMETER[\"Latitude_Of_Origin\",23.0],UNIT[\"Meter\",1.0]]',r\"C:\\Users\\dsx.AD3\\Code\\FloodMitigation\\geospatial_analysis\\southernillinois\\layers.gdb\")"
   ]
  },
  {
   "cell_type": "code",
   "execution_count": 18,
   "metadata": {
    "collapsed": false
   },
   "outputs": [
    {
     "ename": "TypeError",
     "evalue": "'set' object has no attribute '__getitem__'",
     "output_type": "error",
     "traceback": [
      "\u001b[1;31m---------------------------------------------------------------------------\u001b[0m",
      "\u001b[1;31mTypeError\u001b[0m                                 Traceback (most recent call last)",
      "\u001b[1;32m<ipython-input-18-9b5cdb2cd2d9>\u001b[0m in \u001b[0;36m<module>\u001b[1;34m()\u001b[0m\n\u001b[1;32m----> 1\u001b[1;33m \u001b[0marcpy\u001b[0m\u001b[1;33m.\u001b[0m\u001b[0menv\u001b[0m\u001b[1;33m.\u001b[0m\u001b[0m__dict__\u001b[0m\u001b[1;33m[\u001b[0m\u001b[1;34m\"_environments\"\u001b[0m\u001b[1;33m]\u001b[0m\u001b[1;33m[\u001b[0m\u001b[1;34m'cellSize'\u001b[0m\u001b[1;33m]\u001b[0m\u001b[1;33m\u001b[0m\u001b[0m\n\u001b[0m",
      "\u001b[1;31mTypeError\u001b[0m: 'set' object has no attribute '__getitem__'"
     ]
    }
   ],
   "source": [
    "arcpy.env.__dict__[\"_environments\"]['cellSize']"
   ]
  },
  {
   "cell_type": "code",
   "execution_count": 19,
   "metadata": {
    "collapsed": false
   },
   "outputs": [
    {
     "ename": "TypeError",
     "evalue": "'set' object has no attribute '__getitem__'",
     "output_type": "error",
     "traceback": [
      "\u001b[1;31m---------------------------------------------------------------------------\u001b[0m",
      "\u001b[1;31mTypeError\u001b[0m                                 Traceback (most recent call last)",
      "\u001b[1;32m<ipython-input-19-c8575b387eda>\u001b[0m in \u001b[0;36m<module>\u001b[1;34m()\u001b[0m\n\u001b[1;32m----> 1\u001b[1;33m \u001b[1;32mprint\u001b[0m \u001b[0marcpy\u001b[0m\u001b[1;33m.\u001b[0m\u001b[0menv\u001b[0m\u001b[1;33m.\u001b[0m\u001b[0m__dict__\u001b[0m\u001b[1;33m[\u001b[0m\u001b[1;34m\"_environments\"\u001b[0m\u001b[1;33m]\u001b[0m\u001b[1;33m[\u001b[0m\u001b[1;34m'cellSize'\u001b[0m\u001b[1;33m]\u001b[0m\u001b[1;33m\u001b[0m\u001b[0m\n\u001b[0m",
      "\u001b[1;31mTypeError\u001b[0m: 'set' object has no attribute '__getitem__'"
     ]
    }
   ],
   "source": [
    "print arcpy.env.__dict__[\"_environments\"]['cellSize']"
   ]
  },
  {
   "cell_type": "code",
   "execution_count": 20,
   "metadata": {
    "collapsed": false
   },
   "outputs": [
    {
     "data": {
      "text/plain": [
       "{u'MDomain',\n",
       " u'MResolution',\n",
       " u'MTolerance',\n",
       " u'XYDomain',\n",
       " u'XYResolution',\n",
       " u'XYTolerance',\n",
       " u'ZDomain',\n",
       " u'ZResolution',\n",
       " u'ZTolerance',\n",
       " u'addOutputsToMap',\n",
       " u'autoCommit',\n",
       " u'cartographicCoordinateSystem',\n",
       " u'cartographicPartitions',\n",
       " u'cellSize',\n",
       " u'coincidentPoints',\n",
       " u'compression',\n",
       " u'configKeyword',\n",
       " u'derivedPrecision',\n",
       " u'extent',\n",
       " u'geographicTransformations',\n",
       " u'maintainSpatialIndex',\n",
       " u'mask',\n",
       " u'newPrecision',\n",
       " u'nodata',\n",
       " u'outputCoordinateSystem',\n",
       " u'outputMFlag',\n",
       " u'outputZFlag',\n",
       " u'outputZValue',\n",
       " u'packageWorkspace',\n",
       " u'parallelProcessingFactor',\n",
       " u'projectCompare',\n",
       " u'pyramid',\n",
       " u'qualifiedFieldNames',\n",
       " u'randomGenerator',\n",
       " u'rasterStatistics',\n",
       " u'referenceScale',\n",
       " u'resamplingMethod',\n",
       " u'scratchFolder',\n",
       " u'scratchGDB',\n",
       " u'scratchWorkspace',\n",
       " u'snapRaster',\n",
       " u'spatialGrid1',\n",
       " u'spatialGrid2',\n",
       " u'spatialGrid3',\n",
       " u'terrainMemoryUsage',\n",
       " u'tileSize',\n",
       " u'tinSaveVersion',\n",
       " u'transferDomains',\n",
       " u'workspace'}"
      ]
     },
     "execution_count": 20,
     "metadata": {},
     "output_type": "execute_result"
    }
   ],
   "source": [
    "arcpy.env.__dict__[\"_environments\"]"
   ]
  },
  {
   "cell_type": "code",
   "execution_count": 21,
   "metadata": {
    "collapsed": false
   },
   "outputs": [
    {
     "ename": "TypeError",
     "evalue": "'set' object has no attribute '__getitem__'",
     "output_type": "error",
     "traceback": [
      "\u001b[1;31m---------------------------------------------------------------------------\u001b[0m",
      "\u001b[1;31mTypeError\u001b[0m                                 Traceback (most recent call last)",
      "\u001b[1;32m<ipython-input-21-9b5cdb2cd2d9>\u001b[0m in \u001b[0;36m<module>\u001b[1;34m()\u001b[0m\n\u001b[1;32m----> 1\u001b[1;33m \u001b[0marcpy\u001b[0m\u001b[1;33m.\u001b[0m\u001b[0menv\u001b[0m\u001b[1;33m.\u001b[0m\u001b[0m__dict__\u001b[0m\u001b[1;33m[\u001b[0m\u001b[1;34m\"_environments\"\u001b[0m\u001b[1;33m]\u001b[0m\u001b[1;33m[\u001b[0m\u001b[1;34m'cellSize'\u001b[0m\u001b[1;33m]\u001b[0m\u001b[1;33m\u001b[0m\u001b[0m\n\u001b[0m",
      "\u001b[1;31mTypeError\u001b[0m: 'set' object has no attribute '__getitem__'"
     ]
    }
   ],
   "source": [
    "arcpy.env.__dict__[\"_environments\"]['cellSize']"
   ]
  },
  {
   "cell_type": "code",
   "execution_count": 22,
   "metadata": {
    "collapsed": false
   },
   "outputs": [
    {
     "ename": "TypeError",
     "evalue": "'set' object has no attribute '__getitem__'",
     "output_type": "error",
     "traceback": [
      "\u001b[1;31m---------------------------------------------------------------------------\u001b[0m",
      "\u001b[1;31mTypeError\u001b[0m                                 Traceback (most recent call last)",
      "\u001b[1;32m<ipython-input-22-a28e5f892f1a>\u001b[0m in \u001b[0;36m<module>\u001b[1;34m()\u001b[0m\n\u001b[1;32m----> 1\u001b[1;33m \u001b[0ma\u001b[0m \u001b[1;33m=\u001b[0m \u001b[0marcpy\u001b[0m\u001b[1;33m.\u001b[0m\u001b[0menv\u001b[0m\u001b[1;33m.\u001b[0m\u001b[0m__dict__\u001b[0m\u001b[1;33m[\u001b[0m\u001b[1;34m\"_environments\"\u001b[0m\u001b[1;33m]\u001b[0m\u001b[1;33m[\u001b[0m\u001b[1;34m'cellSize'\u001b[0m\u001b[1;33m]\u001b[0m\u001b[1;33m\u001b[0m\u001b[0m\n\u001b[0m",
      "\u001b[1;31mTypeError\u001b[0m: 'set' object has no attribute '__getitem__'"
     ]
    }
   ],
   "source": [
    "a = arcpy.env.__dict__[\"_environments\"]['cellSize']"
   ]
  },
  {
   "cell_type": "code",
   "execution_count": 23,
   "metadata": {
    "collapsed": false
   },
   "outputs": [
    {
     "data": {
      "text/plain": [
       "{'_environments': {u'MDomain',\n",
       "  u'MResolution',\n",
       "  u'MTolerance',\n",
       "  u'XYDomain',\n",
       "  u'XYResolution',\n",
       "  u'XYTolerance',\n",
       "  u'ZDomain',\n",
       "  u'ZResolution',\n",
       "  u'ZTolerance',\n",
       "  u'addOutputsToMap',\n",
       "  u'autoCommit',\n",
       "  u'cartographicCoordinateSystem',\n",
       "  u'cartographicPartitions',\n",
       "  u'cellSize',\n",
       "  u'coincidentPoints',\n",
       "  u'compression',\n",
       "  u'configKeyword',\n",
       "  u'derivedPrecision',\n",
       "  u'extent',\n",
       "  u'geographicTransformations',\n",
       "  u'maintainSpatialIndex',\n",
       "  u'mask',\n",
       "  u'newPrecision',\n",
       "  u'nodata',\n",
       "  u'outputCoordinateSystem',\n",
       "  u'outputMFlag',\n",
       "  u'outputZFlag',\n",
       "  u'outputZValue',\n",
       "  u'packageWorkspace',\n",
       "  u'parallelProcessingFactor',\n",
       "  u'projectCompare',\n",
       "  u'pyramid',\n",
       "  u'qualifiedFieldNames',\n",
       "  u'randomGenerator',\n",
       "  u'rasterStatistics',\n",
       "  u'referenceScale',\n",
       "  u'resamplingMethod',\n",
       "  u'scratchFolder',\n",
       "  u'scratchGDB',\n",
       "  u'scratchWorkspace',\n",
       "  u'snapRaster',\n",
       "  u'spatialGrid1',\n",
       "  u'spatialGrid2',\n",
       "  u'spatialGrid3',\n",
       "  u'terrainMemoryUsage',\n",
       "  u'tileSize',\n",
       "  u'tinSaveVersion',\n",
       "  u'transferDomains',\n",
       "  u'workspace'},\n",
       " '_gp': <geoprocessing object at 0x35da308>}"
      ]
     },
     "execution_count": 23,
     "metadata": {},
     "output_type": "execute_result"
    }
   ],
   "source": [
    "arcpy.env.__dict__[\"_environments\"]['cellSize']arcpy.env.__dict__"
   ]
  },
  {
   "cell_type": "code",
   "execution_count": 24,
   "metadata": {
    "collapsed": false
   },
   "outputs": [
    {
     "ename": "AttributeError",
     "evalue": "Object: Tool or environment <__dict__> not found",
     "output_type": "error",
     "traceback": [
      "\u001b[1;31m---------------------------------------------------------------------------\u001b[0m",
      "\u001b[1;31mAttributeError\u001b[0m                            Traceback (most recent call last)",
      "\u001b[1;32m<ipython-input-24-fc55add92d77>\u001b[0m in \u001b[0;36m<module>\u001b[1;34m()\u001b[0m\n\u001b[1;32m----> 1\u001b[1;33m \u001b[0marcpy\u001b[0m\u001b[1;33m.\u001b[0m\u001b[0menv\u001b[0m\u001b[1;33m.\u001b[0m\u001b[0m__dict__\u001b[0m\u001b[1;33m[\u001b[0m\u001b[1;34m\"_gp\"\u001b[0m\u001b[1;33m]\u001b[0m\u001b[1;33m.\u001b[0m\u001b[0m__dict__\u001b[0m\u001b[1;33m\u001b[0m\u001b[0m\n\u001b[0m",
      "\u001b[1;31mAttributeError\u001b[0m: Object: Tool or environment <__dict__> not found"
     ]
    }
   ],
   "source": [
    "arcpy.env.__dict__[\"_gp\"].__dict__"
   ]
  },
  {
   "cell_type": "code",
   "execution_count": null,
   "metadata": {
    "collapsed": true
   },
   "outputs": [],
   "source": []
  }
 ],
 "metadata": {
  "kernelspec": {
   "display_name": "Python 2",
   "language": "python",
   "name": "python2"
  },
  "language_info": {
   "codemirror_mode": {
    "name": "ipython",
    "version": 2
   },
   "file_extension": ".py",
   "mimetype": "text/x-python",
   "name": "python",
   "nbconvert_exporter": "python",
   "pygments_lexer": "ipython2",
   "version": "2.7.8"
  }
 },
 "nbformat": 4,
 "nbformat_minor": 0
}
