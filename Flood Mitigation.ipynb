{
 "cells": [
  {
   "cell_type": "markdown",
   "metadata": {
    "collapsed": false
   },
   "source": [
    "## Flood Mitigation Testing Notebook ##"
   ]
  },
  {
   "cell_type": "code",
   "execution_count": 1,
   "metadata": {
    "collapsed": true
   },
   "outputs": [],
   "source": [
    "from relocation.gis import land_use"
   ]
  },
  {
   "cell_type": "code",
   "execution_count": null,
   "metadata": {
    "collapsed": false
   },
   "outputs": [],
   "source": [
    "land_use.land_use(r\"C:\\Users\\dsx.AD3\\Code\\FloodMitigation\\regions\\SouthernIllinois\\layers.gdb\\nlcd_2011_land_cover\",r\"C:\\Users\\dsx.AD3\\Code\\FloodMitigation\\geospatial_analysis\\southernillinois\\layers.gdb\\search_area\",r\"C:\\Users\\dsx.AD3\\Code\\FloodMitigation\\regions\\SouthernIllinois\\layers.gdb\\tiger_roads_2011\",r\"C:\\Users\\dsx.AD3\\Code\\FloodMitigation\\regions\\SouthernIllinois\\layers.gdb\\census_places_2015\",r'PROJCS[\"NAD_1983_Contiguous_USA_Albers\",GEOGCS[\"GCS_North_American_1983\",DATUM[\"D_North_American_1983\",SPHEROID[\"GRS_1980\",6378137.0,298.257222101]],PRIMEM[\"Greenwich\",0.0],UNIT[\"Degree\",0.0174532925199433]],PROJECTION[\"Albers\"],PARAMETER[\"False_Easting\",0.0],PARAMETER[\"False_Northing\",0.0],PARAMETER[\"Central_Meridian\",-96.0],PARAMETER[\"Standard_Parallel_1\",29.5],PARAMETER[\"Standard_Parallel_2\",45.5],PARAMETER[\"Latitude_Of_Origin\",23.0],UNIT[\"Meter\",1.0]]',r\"C:\\Users\\dsx.AD3\\Code\\FloodMitigation\\geospatial_analysis\\southernillinois\\layers.gdb\")"
   ]
  },
  {
   "cell_type": "code",
   "execution_count": null,
   "metadata": {
    "collapsed": false
   },
   "outputs": [],
   "source": [
    "land_use.land_use(r\"C:\\Users\\dsx.AD3\\Code\\FloodMitigation\\regions\\SouthernIllinois\\layers.gdb\\nlcd_2011_land_cover\",r\"C:\\Users\\dsx.AD3\\Code\\FloodMitigation\\geospatial_analysis\\southernillinois\\layers.gdb\\search_area\",r\"C:\\Users\\dsx.AD3\\Code\\FloodMitigation\\regions\\SouthernIllinois\\layers.gdb\\tiger_roads_2011\",r\"C:\\Users\\dsx.AD3\\Code\\FloodMitigation\\regions\\SouthernIllinois\\layers.gdb\\census_places_2015\",r'PROJCS[\"NAD_1983_Contiguous_USA_Albers\",GEOGCS[\"GCS_North_American_1983\",DATUM[\"D_North_American_1983\",SPHEROID[\"GRS_1980\",6378137.0,298.257222101]],PRIMEM[\"Greenwich\",0.0],UNIT[\"Degree\",0.0174532925199433]],PROJECTION[\"Albers\"],PARAMETER[\"False_Easting\",0.0],PARAMETER[\"False_Northing\",0.0],PARAMETER[\"Central_Meridian\",-96.0],PARAMETER[\"Standard_Parallel_1\",29.5],PARAMETER[\"Standard_Parallel_2\",45.5],PARAMETER[\"Latitude_Of_Origin\",23.0],UNIT[\"Meter\",1.0]]',r\"C:\\Users\\dsx.AD3\\Code\\FloodMitigation\\geospatial_analysis\\southernillinois\\layers.gdb\")\n"
   ]
  },
  {
   "cell_type": "code",
   "execution_count": null,
   "metadata": {
    "collapsed": false
   },
   "outputs": [],
   "source": [
    "arcpy.env.__dict__"
   ]
  },
  {
   "cell_type": "code",
   "execution_count": null,
   "metadata": {
    "collapsed": false
   },
   "outputs": [],
   "source": [
    "arcpy.env.__dict__['cellSize']"
   ]
  },
  {
   "cell_type": "code",
   "execution_count": null,
   "metadata": {
    "collapsed": false
   },
   "outputs": [],
   "source": [
    "arcpy.env.__dict__[unicode('cellSize')]"
   ]
  },
  {
   "cell_type": "code",
   "execution_count": null,
   "metadata": {
    "collapsed": true
   },
   "outputs": [],
   "source": [
    "from relocation import gis"
   ]
  },
  {
   "cell_type": "code",
   "execution_count": null,
   "metadata": {
    "collapsed": false
   },
   "outputs": [],
   "source": [
    "reload(gis)"
   ]
  },
  {
   "cell_type": "code",
   "execution_count": null,
   "metadata": {
    "collapsed": false
   },
   "outputs": [],
   "source": [
    "land_use.land_use(r\"C:\\Users\\dsx.AD3\\Code\\FloodMitigation\\regions\\SouthernIllinois\\layers.gdb\\nlcd_2011_land_cover\",r\"C:\\Users\\dsx.AD3\\Code\\FloodMitigation\\geospatial_analysis\\southernillinois\\layers.gdb\\search_area\",r\"C:\\Users\\dsx.AD3\\Code\\FloodMitigation\\regions\\SouthernIllinois\\layers.gdb\\tiger_roads_2011\",r\"C:\\Users\\dsx.AD3\\Code\\FloodMitigation\\regions\\SouthernIllinois\\layers.gdb\\census_places_2015\",r'PROJCS[\"NAD_1983_Contiguous_USA_Albers\",GEOGCS[\"GCS_North_American_1983\",DATUM[\"D_North_American_1983\",SPHEROID[\"GRS_1980\",6378137.0,298.257222101]],PRIMEM[\"Greenwich\",0.0],UNIT[\"Degree\",0.0174532925199433]],PROJECTION[\"Albers\"],PARAMETER[\"False_Easting\",0.0],PARAMETER[\"False_Northing\",0.0],PARAMETER[\"Central_Meridian\",-96.0],PARAMETER[\"Standard_Parallel_1\",29.5],PARAMETER[\"Standard_Parallel_2\",45.5],PARAMETER[\"Latitude_Of_Origin\",23.0],UNIT[\"Meter\",1.0]]',r\"C:\\Users\\dsx.AD3\\Code\\FloodMitigation\\geospatial_analysis\\southernillinois\\layers.gdb\")"
   ]
  },
  {
   "cell_type": "code",
   "execution_count": null,
   "metadata": {
    "collapsed": false
   },
   "outputs": [],
   "source": [
    "arcpy.env.__dict__[\"_environments\"]['cellSize']"
   ]
  },
  {
   "cell_type": "code",
   "execution_count": null,
   "metadata": {
    "collapsed": false
   },
   "outputs": [],
   "source": [
    "print arcpy.env.__dict__[\"_environments\"]['cellSize']"
   ]
  },
  {
   "cell_type": "code",
   "execution_count": null,
   "metadata": {
    "collapsed": false
   },
   "outputs": [],
   "source": [
    "arcpy.env.__dict__[\"_environments\"]"
   ]
  },
  {
   "cell_type": "code",
   "execution_count": null,
   "metadata": {
    "collapsed": false
   },
   "outputs": [],
   "source": [
    "arcpy.env.__dict__[\"_environments\"]['cellSize']"
   ]
  },
  {
   "cell_type": "code",
   "execution_count": null,
   "metadata": {
    "collapsed": false
   },
   "outputs": [],
   "source": [
    "a = arcpy.env.__dict__[\"_environments\"]['cellSize']"
   ]
  },
  {
   "cell_type": "code",
   "execution_count": null,
   "metadata": {
    "collapsed": false
   },
   "outputs": [],
   "source": [
    "arcpy.env.__dict__[\"_environments\"]['cellSize']arcpy.env.__dict__"
   ]
  },
  {
   "cell_type": "code",
   "execution_count": null,
   "metadata": {
    "collapsed": false
   },
   "outputs": [],
   "source": [
    "arcpy.env.__dict__[\"_gp\"].__dict__"
   ]
  },
  {
   "cell_type": "code",
   "execution_count": null,
   "metadata": {
    "collapsed": false
   },
   "outputs": [],
   "source": [
    "reload(gis)"
   ]
  },
  {
   "cell_type": "code",
   "execution_count": null,
   "metadata": {
    "collapsed": false
   },
   "outputs": [],
   "source": [
    "land_use.land_use(r\"C:\\Users\\dsx.AD3\\Code\\FloodMitigation\\regions\\SouthernIllinois\\layers.gdb\\nlcd_2011_land_cover\",r\"C:\\Users\\dsx.AD3\\Code\\FloodMitigation\\geospatial_analysis\\southernillinois\\layers.gdb\\search_area\",r\"C:\\Users\\dsx.AD3\\Code\\FloodMitigation\\regions\\SouthernIllinois\\layers.gdb\\tiger_roads_2011\",r\"C:\\Users\\dsx.AD3\\Code\\FloodMitigation\\regions\\SouthernIllinois\\layers.gdb\\census_places_2015\",r'PROJCS[\"NAD_1983_Contiguous_USA_Albers\",GEOGCS[\"GCS_North_American_1983\",DATUM[\"D_North_American_1983\",SPHEROID[\"GRS_1980\",6378137.0,298.257222101]],PRIMEM[\"Greenwich\",0.0],UNIT[\"Degree\",0.0174532925199433]],PROJECTION[\"Albers\"],PARAMETER[\"False_Easting\",0.0],PARAMETER[\"False_Northing\",0.0],PARAMETER[\"Central_Meridian\",-96.0],PARAMETER[\"Standard_Parallel_1\",29.5],PARAMETER[\"Standard_Parallel_2\",45.5],PARAMETER[\"Latitude_Of_Origin\",23.0],UNIT[\"Meter\",1.0]]',r\"C:\\Users\\dsx.AD3\\Code\\FloodMitigation\\geospatial_analysis\\southernillinois\\layers.gdb\")"
   ]
  },
  {
   "cell_type": "raw",
   "metadata": {},
   "source": [
    "arpy.env.__getitem__('cellSize')\n"
   ]
  },
  {
   "cell_type": "code",
   "execution_count": null,
   "metadata": {
    "collapsed": false
   },
   "outputs": [],
   "source": [
    "arpy.env.__getitem__('cellSize')"
   ]
  },
  {
   "cell_type": "code",
   "execution_count": null,
   "metadata": {
    "collapsed": false
   },
   "outputs": [],
   "source": [
    "arcpy.env.__getitem__('cellSize')"
   ]
  },
  {
   "cell_type": "code",
   "execution_count": null,
   "metadata": {
    "collapsed": true
   },
   "outputs": [],
   "source": [
    "stored_environments = {}"
   ]
  },
  {
   "cell_type": "code",
   "execution_count": null,
   "metadata": {
    "collapsed": true
   },
   "outputs": [],
   "source": [
    "environments_list = ['cellSize','mask','extent']"
   ]
  },
  {
   "cell_type": "code",
   "execution_count": null,
   "metadata": {
    "collapsed": true
   },
   "outputs": [],
   "source": [
    "for env in environments_list:\n",
    "    stored_environments[env] = arcpy.env.__getitem__(env)"
   ]
  },
  {
   "cell_type": "code",
   "execution_count": null,
   "metadata": {
    "collapsed": false
   },
   "outputs": [],
   "source": [
    "stored_environments"
   ]
  },
  {
   "cell_type": "code",
   "execution_count": null,
   "metadata": {
    "collapsed": true
   },
   "outputs": [],
   "source": [
    "# land_use.land_use(r\"C:\\Users\\dsx.AD3\\Code\\FloodMitigation\\regions\\SouthernIllinois\\layers.gdb\\nlcd_2011_land_cover\",r\"C:\\Users\\dsx.AD3\\Code\\FloodMitigation\\geospatial_analysis\\southernillinois\\layers.gdb\\search_area\",r\"C:\\Users\\dsx.AD3\\Code\\FloodMitigation\\regions\\SouthernIllinois\\layers.gdb\\tiger_roads_2011\",r\"C:\\Users\\dsx.AD3\\Code\\FloodMitigation\\regions\\SouthernIllinois\\layers.gdb\\census_places_2015\",r'PROJCS[\"NAD_1983_Contiguous_USA_Albers\",GEOGCS[\"GCS_North_American_1983\",DATUM[\"D_North_American_1983\",SPHEROID[\"GRS_1980\",6378137.0,298.257222101]],PRIMEM[\"Greenwich\",0.0],UNIT[\"Degree\",0.0174532925199433]],PROJECTION[\"Albers\"],PARAMETER[\"False_Easting\",0.0],PARAMETER[\"False_Northing\",0.0],PARAMETER[\"Central_Meridian\",-96.0],PARAMETER[\"Standard_Parallel_1\",29.5],PARAMETER[\"Standard_Parallel_2\",45.5],PARAMETER[\"Latitude_Of_Origin\",23.0],UNIT[\"Meter\",1.0]]',r\"C:\\Users\\dsx.AD3\\Code\\FloodMitigation\\geospatial_analysis\\southernillinois\\layers.gdb\")"
   ]
  },
  {
   "cell_type": "code",
   "execution_count": null,
   "metadata": {
    "collapsed": false
   },
   "outputs": [],
   "source": [
    "store_environments(environments_list)"
   ]
  },
  {
   "cell_type": "code",
   "execution_count": null,
   "metadata": {
    "collapsed": false
   },
   "outputs": [],
   "source": [
    "gis.store_environments(environments_list)"
   ]
  },
  {
   "cell_type": "code",
   "execution_count": null,
   "metadata": {
    "collapsed": true
   },
   "outputs": [],
   "source": []
  }
 ],
 "metadata": {
  "kernelspec": {
   "display_name": "Python 2",
   "language": "python",
   "name": "python2"
  },
  "language_info": {
   "codemirror_mode": {
    "name": "ipython",
    "version": 2
   },
   "file_extension": ".py",
   "mimetype": "text/x-python",
   "name": "python",
   "nbconvert_exporter": "python",
   "pygments_lexer": "ipython2",
   "version": "2.7.8"
  }
 },
 "nbformat": 4,
 "nbformat_minor": 0
}
