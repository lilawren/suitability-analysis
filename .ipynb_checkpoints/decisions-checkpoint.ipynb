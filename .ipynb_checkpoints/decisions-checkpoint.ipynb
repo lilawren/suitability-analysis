{
 "cells": [
  {
   "cell_type": "markdown",
   "metadata": {
    "collapsed": true
   },
   "source": [
    "# Data Design and Process\n"
   ]
  },
  {
   "cell_type": "markdown",
   "metadata": {},
   "source": [
    "## Cell Size\n",
    "I tried running the data extraction at three different hexagonal side lengths: 30m, 60m, and 142m. 30m to get closer to the cell size of the many 30m rasters we are using, and 60m when 30m caused some Zonal Statistics calls to crash the Python interpreter (a known bug that occurs when no cells are selected during an operation). We used 142m because a hexagon with that side length has an area that is the same as the average area for the Monroe County parcels layer we used for Valmeyer, originally. Some other side lengths might be worth testing, but the results were as follows: 60m seemed to result in little net benefit to model accuracy, and likely increased the problem of spatial autocorrelation. I did not quantify the changes formally - it seemed slightly more accurate, but I'm not sure if it was signficant or not, or how much autocorrelation increased as a result. The model was also signficantly slower to process data and generate outputs as a result of the many more \"parcels\" the 60m hexagons added compared with the 142m hexagons"
   ]
  },
  {
   "cell_type": "markdown",
   "metadata": {},
   "source": [
    "## Zonal Statistics Bug and Workaround\n"
   ]
  },
  {
   "cell_type": "markdown",
   "metadata": {},
   "source": [
    "## Town Boundary and Structure Filtering\n",
    "Note choices made while filtering structures here - pull from metadata"
   ]
  },
  {
   "cell_type": "markdown",
   "metadata": {},
   "source": [
    "# Data Sources\n",
    "## Roads\n",
    "Road description here\n",
    "\n",
    "## Structures\n",
    "Structures Description here\n",
    "\n",
    "## Floodplains\n",
    "General Description\n",
    "\n",
    "### Odanah issues\n",
    "\n",
    "### Valmeyer Issues"
   ]
  },
  {
   "cell_type": "markdown",
   "metadata": {
    "collapsed": true
   },
   "source": [
    "# Modeling\n",
    "## Min Max Mean vs Max\n",
    "Placeholder text here\n",
    "\n",
    "## Random Forests vs. Logistic Regression\n",
    "\n",
    "## Scaling of values"
   ]
  },
  {
   "cell_type": "markdown",
   "metadata": {},
   "source": []
  },
  {
   "cell_type": "code",
   "execution_count": null,
   "metadata": {
    "collapsed": true
   },
   "outputs": [],
   "source": []
  },
  {
   "cell_type": "code",
   "execution_count": null,
   "metadata": {
    "collapsed": true
   },
   "outputs": [],
   "source": []
  }
 ],
 "metadata": {
  "celltoolbar": "Raw Cell Format",
  "kernelspec": {
   "display_name": "Python 3",
   "language": "python",
   "name": "python3"
  },
  "language_info": {
   "codemirror_mode": {
    "name": "ipython",
    "version": 3
   },
   "file_extension": ".py",
   "mimetype": "text/x-python",
   "name": "python",
   "nbconvert_exporter": "python",
   "pygments_lexer": "ipython3",
   "version": "3.4.3"
  }
 },
 "nbformat": 4,
 "nbformat_minor": 0
}
