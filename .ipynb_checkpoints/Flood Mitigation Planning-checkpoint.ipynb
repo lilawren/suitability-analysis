{
 "cells": [
  {
   "cell_type": "markdown",
   "metadata": {
    "slideshow": {
     "slide_type": "slide"
    }
   },
   "source": [
    "# Flood Mitigation Tool Planning #\n",
    "\n",
    "## Code Structure ##\n",
    "### Supported Constraint Classes ###\n",
    "The tool will support a number of separate constraints.\n",
    "* direct erasure of locations as being incompatible\n",
    "* grouping of erasure constraints to allow for areas to be removed/added by multiple queries\n",
    "* raster weighting constraints (configurable)\n",
    "* regression constraints\n",
    "\n",
    "### Approach ###\n",
    "We will mask out areas that absolutely can't be built on, then divide the remaining polygons up by parcels (or other polygon if parcels unavailable) - to those parcels, we can attach the data we need to run a logistic regression model. Then, we can run the regression per polygon, and display the results. We can then precompute for each polygon which of the neighboring polygons make the best contiguous unit, so that we can highlight them on mouseover for people to explore. Nicholas would like hazards to display as an overlay (slopes, etc) so that on highlighting parcels, people can see how these fit into the landscape.\n",
    "\n",
    "Talking with Nicholas, he'd like the precompute all of this so that the interface is snappy and quick to explore data in."
   ]
  },
  {
   "cell_type": "code",
   "execution_count": null,
   "metadata": {
    "collapsed": true
   },
   "outputs": [],
   "source": []
  }
 ],
 "metadata": {
  "celltoolbar": "Slideshow",
  "kernelspec": {
   "display_name": "Python 2",
   "language": "python",
   "name": "python2"
  },
  "language_info": {
   "codemirror_mode": {
    "name": "ipython",
    "version": 2
   },
   "file_extension": ".py",
   "mimetype": "text/x-python",
   "name": "python",
   "nbconvert_exporter": "python",
   "pygments_lexer": "ipython2",
   "version": "2.7.8"
  }
 },
 "nbformat": 4,
 "nbformat_minor": 0
}
